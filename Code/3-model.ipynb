{
 "cells": [
  {
   "cell_type": "code",
   "execution_count": 1,
   "metadata": {
    "execution": {
     "iopub.execute_input": "2023-07-15T12:57:13.806694Z",
     "iopub.status.busy": "2023-07-15T12:57:13.805695Z",
     "iopub.status.idle": "2023-07-15T12:57:18.588190Z",
     "shell.execute_reply": "2023-07-15T12:57:18.587190Z"
    }
   },
   "outputs": [
    {
     "name": "stdout",
     "output_type": "stream",
     "text": [
      "WARNING:tensorflow:From C:\\Users\\mosel\\AppData\\Local\\Temp\\ipykernel_1732\\2659497722.py:24: The name tf.keras.backend.set_session is deprecated. Please use tf.compat.v1.keras.backend.set_session instead.\n",
      "\n"
     ]
    }
   ],
   "source": [
    "import os\n",
    "os.environ['TF_CPP_MIN_LOG_LEVEL'] = '2'\n",
    "# Seed value\n",
    "seed_value = 55\n",
    "\n",
    "# 1. Set the `PYTHONHASHSEED` environment variable at a fixed value\n",
    "import os\n",
    "os.environ['PYTHONHASHSEED']=str(seed_value)\n",
    "\n",
    "# 2. Set the `python` built-in pseudo-random generator at a fixed value\n",
    "import random\n",
    "random.seed(seed_value)\n",
    "\n",
    "# 3. Set the `numpy` pseudo-random generator at a fixed value\n",
    "import numpy as np\n",
    "np.random.seed(seed_value)\n",
    "\n",
    "# 4. Set the `tensorflow` pseudo-random generator at a fixed value\n",
    "import tensorflow as tf\n",
    "tf.random.set_seed(seed_value)\n",
    "\n",
    "session_conf = tf.compat.v1.ConfigProto(intra_op_parallelism_threads=1, inter_op_parallelism_threads=1)\n",
    "sess = tf.compat.v1.Session(graph=tf.compat.v1.get_default_graph(), config=session_conf)\n",
    "tf.compat.v1.keras.backend.set_session(sess)"
   ]
  },
  {
   "cell_type": "code",
   "execution_count": 2,
   "metadata": {
    "execution": {
     "iopub.execute_input": "2023-07-15T12:57:18.605271Z",
     "iopub.status.busy": "2023-07-15T12:57:18.604212Z",
     "iopub.status.idle": "2023-07-15T12:57:19.340921Z",
     "shell.execute_reply": "2023-07-15T12:57:19.339920Z"
    }
   },
   "outputs": [],
   "source": [
    "import numpy as np\n",
    "import pandas as pd\n",
    "import matplotlib as mpl\n",
    "import matplotlib.pyplot as plt\n",
    "%matplotlib inline\n",
    "from tensorflow import keras\n",
    "from sklearn.model_selection import train_test_split"
   ]
  },
  {
   "cell_type": "code",
   "execution_count": 3,
   "metadata": {
    "execution": {
     "iopub.execute_input": "2023-07-15T12:57:19.343432Z",
     "iopub.status.busy": "2023-07-15T12:57:19.343432Z",
     "iopub.status.idle": "2023-07-15T12:57:19.371470Z",
     "shell.execute_reply": "2023-07-15T12:57:19.371470Z"
    }
   },
   "outputs": [],
   "source": [
    "dataset_file_name = 'human_dataset.txt'\n",
    "y_train_full = np.load('../Saved Data/Training Set/labels.npy')\n",
    "X_train_full = np.load('../Saved Data/Training Set/dna_spectral_representation.npy')"
   ]
  },
  {
   "cell_type": "code",
   "execution_count": 4,
   "metadata": {
    "execution": {
     "iopub.execute_input": "2023-07-15T12:57:19.374981Z",
     "iopub.status.busy": "2023-07-15T12:57:19.374981Z",
     "iopub.status.idle": "2023-07-15T12:57:19.388506Z",
     "shell.execute_reply": "2023-07-15T12:57:19.387504Z"
    }
   },
   "outputs": [],
   "source": [
    "k = 5\n",
    "input_vector_size = np.power(4, k)"
   ]
  },
  {
   "cell_type": "code",
   "execution_count": 5,
   "metadata": {
    "execution": {
     "iopub.execute_input": "2023-07-15T12:57:19.391506Z",
     "iopub.status.busy": "2023-07-15T12:57:19.390505Z",
     "iopub.status.idle": "2023-07-15T12:57:19.403536Z",
     "shell.execute_reply": "2023-07-15T12:57:19.403028Z"
    }
   },
   "outputs": [],
   "source": [
    "X_train, X_valid, y_train, y_valid = train_test_split(X_train_full, y_train_full, test_size=0.1,\n",
    "                                                        random_state=20)"
   ]
  },
  {
   "cell_type": "markdown",
   "metadata": {},
   "source": [
    "# Model : LeNet5 like Architecture CNN for Text Classification"
   ]
  },
  {
   "cell_type": "code",
   "execution_count": 6,
   "metadata": {
    "execution": {
     "iopub.execute_input": "2023-07-15T12:57:19.407543Z",
     "iopub.status.busy": "2023-07-15T12:57:19.406547Z",
     "iopub.status.idle": "2023-07-15T12:57:19.639696Z",
     "shell.execute_reply": "2023-07-15T12:57:19.639189Z"
    }
   },
   "outputs": [],
   "source": [
    "model = keras.Sequential()\n",
    "\n",
    "model.add(keras.layers.Conv1D(filters=30, kernel_size=(5), activation='relu', input_shape=(input_vector_size, 1),padding=\"same\"))\n",
    "model.add(keras.layers.MaxPooling1D())\n",
    "model.add(keras.layers.Dropout(0.3))\n",
    "\n",
    "model.add(keras.layers.Conv1D(filters=15, kernel_size=(5), activation='relu', input_shape=(int(input_vector_size / 2), 1), padding=\"same\"))\n",
    "model.add(keras.layers.MaxPooling1D())\n",
    "model.add(keras.layers.Dropout(0.3))\n",
    "\n",
    "model.add(keras.layers.Flatten())\n",
    "\n",
    "model.add(keras.layers.Dense(units=256, activation='relu'))\n",
    "model.add(keras.layers.Dropout(0.3))\n",
    "\n",
    "model.add(keras.layers.Dense(units=128, activation='relu'))\n",
    "model.add(keras.layers.Dropout(0.3))\n",
    "\n",
    "model.add(keras.layers.Dense(units=64, activation='relu'))\n",
    "\n",
    "model.add(keras.layers.Dense(units=int(7), activation = 'softmax'))"
   ]
  },
  {
   "cell_type": "code",
   "execution_count": 7,
   "metadata": {
    "execution": {
     "iopub.execute_input": "2023-07-15T12:57:19.644219Z",
     "iopub.status.busy": "2023-07-15T12:57:19.643210Z",
     "iopub.status.idle": "2023-07-15T12:57:19.671256Z",
     "shell.execute_reply": "2023-07-15T12:57:19.670258Z"
    }
   },
   "outputs": [
    {
     "name": "stdout",
     "output_type": "stream",
     "text": [
      "Model: \"sequential\"\n",
      "_________________________________________________________________\n",
      " Layer (type)                Output Shape              Param #   \n",
      "=================================================================\n",
      " conv1d (Conv1D)             (None, 1024, 30)          180       \n",
      "                                                                 \n",
      " max_pooling1d (MaxPooling1D  (None, 512, 30)          0         \n",
      " )                                                               \n",
      "                                                                 \n",
      " dropout (Dropout)           (None, 512, 30)           0         \n",
      "                                                                 \n",
      " conv1d_1 (Conv1D)           (None, 512, 15)           2265      \n",
      "                                                                 \n",
      " max_pooling1d_1 (MaxPooling  (None, 256, 15)          0         \n",
      " 1D)                                                             \n",
      "                                                                 \n",
      " dropout_1 (Dropout)         (None, 256, 15)           0         \n",
      "                                                                 \n",
      " flatten (Flatten)           (None, 3840)              0         \n",
      "                                                                 \n",
      " dense (Dense)               (None, 256)               983296    \n",
      "                                                                 \n",
      " dropout_2 (Dropout)         (None, 256)               0         \n",
      "                                                                 \n",
      " dense_1 (Dense)             (None, 128)               32896     \n",
      "                                                                 \n",
      " dropout_3 (Dropout)         (None, 128)               0         \n",
      "                                                                 \n",
      " dense_2 (Dense)             (None, 64)                8256      \n",
      "                                                                 \n",
      " dense_3 (Dense)             (None, 7)                 455       \n",
      "                                                                 \n",
      "=================================================================\n",
      "Total params: 1,027,348\n",
      "Trainable params: 1,027,348\n",
      "Non-trainable params: 0\n",
      "_________________________________________________________________\n"
     ]
    }
   ],
   "source": [
    "model.summary()"
   ]
  },
  {
   "cell_type": "code",
   "execution_count": 8,
   "metadata": {
    "execution": {
     "iopub.execute_input": "2023-07-15T12:57:19.683277Z",
     "iopub.status.busy": "2023-07-15T12:57:19.681769Z",
     "iopub.status.idle": "2023-07-15T12:57:19.703332Z",
     "shell.execute_reply": "2023-07-15T12:57:19.701821Z"
    }
   },
   "outputs": [],
   "source": [
    "opt = keras.optimizers.SGD(learning_rate=0.045, momentum=0.0)\n",
    "model.compile(loss=\"sparse_categorical_crossentropy\", optimizer=opt, metrics=[\"accuracy\"])"
   ]
  },
  {
   "cell_type": "code",
   "execution_count": 9,
   "metadata": {
    "execution": {
     "iopub.execute_input": "2023-07-15T12:57:19.707341Z",
     "iopub.status.busy": "2023-07-15T12:57:19.707341Z",
     "iopub.status.idle": "2023-07-15T12:59:26.254873Z",
     "shell.execute_reply": "2023-07-15T12:59:26.253862Z"
    },
    "scrolled": false
   },
   "outputs": [
    {
     "name": "stdout",
     "output_type": "stream",
     "text": [
      "Epoch 1/30\n",
      "99/99 [==============================] - 6s 55ms/step - loss: 1.8667 - accuracy: 0.2848 - val_loss: 1.7618 - val_accuracy: 0.3105\n",
      "Epoch 2/30\n",
      "99/99 [==============================] - 4s 42ms/step - loss: 1.6993 - accuracy: 0.3536 - val_loss: 1.5213 - val_accuracy: 0.4302\n",
      "Epoch 3/30\n",
      "99/99 [==============================] - 4s 39ms/step - loss: 1.5455 - accuracy: 0.4393 - val_loss: 1.3747 - val_accuracy: 0.5499\n",
      "Epoch 4/30\n",
      "99/99 [==============================] - 4s 40ms/step - loss: 1.3884 - accuracy: 0.4967 - val_loss: 1.1323 - val_accuracy: 0.6268\n",
      "Epoch 5/30\n",
      "99/99 [==============================] - 4s 41ms/step - loss: 1.2536 - accuracy: 0.5550 - val_loss: 1.0570 - val_accuracy: 0.5954\n",
      "Epoch 6/30\n",
      "99/99 [==============================] - 4s 43ms/step - loss: 1.1460 - accuracy: 0.6032 - val_loss: 0.8814 - val_accuracy: 0.6781\n",
      "Epoch 7/30\n",
      "99/99 [==============================] - 4s 41ms/step - loss: 1.0681 - accuracy: 0.6302 - val_loss: 0.7799 - val_accuracy: 0.7493\n",
      "Epoch 8/30\n",
      "99/99 [==============================] - 4s 40ms/step - loss: 0.9842 - accuracy: 0.6587 - val_loss: 0.7824 - val_accuracy: 0.7493\n",
      "Epoch 9/30\n",
      "99/99 [==============================] - 4s 42ms/step - loss: 0.8713 - accuracy: 0.7133 - val_loss: 0.6861 - val_accuracy: 0.7550\n",
      "Epoch 10/30\n",
      "99/99 [==============================] - 4s 41ms/step - loss: 0.8218 - accuracy: 0.7209 - val_loss: 0.6380 - val_accuracy: 0.8063\n",
      "Epoch 11/30\n",
      "99/99 [==============================] - 4s 40ms/step - loss: 0.7565 - accuracy: 0.7513 - val_loss: 0.7758 - val_accuracy: 0.7265\n",
      "Epoch 12/30\n",
      "99/99 [==============================] - 4s 43ms/step - loss: 0.6806 - accuracy: 0.7669 - val_loss: 0.6188 - val_accuracy: 0.8034\n",
      "Epoch 13/30\n",
      "99/99 [==============================] - 4s 45ms/step - loss: 0.6397 - accuracy: 0.7888 - val_loss: 0.5278 - val_accuracy: 0.8177\n",
      "Epoch 14/30\n",
      "99/99 [==============================] - 4s 42ms/step - loss: 0.5549 - accuracy: 0.8129 - val_loss: 0.5207 - val_accuracy: 0.8291\n",
      "Epoch 15/30\n",
      "99/99 [==============================] - 4s 42ms/step - loss: 0.5414 - accuracy: 0.8154 - val_loss: 0.4419 - val_accuracy: 0.8661\n",
      "Epoch 16/30\n",
      "99/99 [==============================] - 4s 42ms/step - loss: 0.4839 - accuracy: 0.8363 - val_loss: 0.4105 - val_accuracy: 0.8746\n",
      "Epoch 17/30\n",
      "99/99 [==============================] - 4s 40ms/step - loss: 0.4289 - accuracy: 0.8532 - val_loss: 0.4380 - val_accuracy: 0.8575\n",
      "Epoch 18/30\n",
      "99/99 [==============================] - 4s 43ms/step - loss: 0.4004 - accuracy: 0.8668 - val_loss: 0.4455 - val_accuracy: 0.8405\n",
      "Epoch 19/30\n",
      "99/99 [==============================] - 4s 43ms/step - loss: 0.3608 - accuracy: 0.8763 - val_loss: 0.3682 - val_accuracy: 0.8803\n",
      "Epoch 20/30\n",
      "99/99 [==============================] - 4s 42ms/step - loss: 0.3486 - accuracy: 0.8839 - val_loss: 0.3998 - val_accuracy: 0.8632\n",
      "Epoch 21/30\n",
      "99/99 [==============================] - 4s 41ms/step - loss: 0.3114 - accuracy: 0.8991 - val_loss: 0.4133 - val_accuracy: 0.8746\n",
      "Epoch 22/30\n",
      "99/99 [==============================] - 4s 41ms/step - loss: 0.2743 - accuracy: 0.9096 - val_loss: 0.3518 - val_accuracy: 0.8775\n",
      "Epoch 23/30\n",
      "99/99 [==============================] - 4s 42ms/step - loss: 0.2621 - accuracy: 0.9179 - val_loss: 0.3718 - val_accuracy: 0.8803\n",
      "Epoch 24/30\n",
      "99/99 [==============================] - 4s 41ms/step - loss: 0.2335 - accuracy: 0.9198 - val_loss: 0.3756 - val_accuracy: 0.8803\n",
      "Epoch 25/30\n",
      "99/99 [==============================] - 4s 42ms/step - loss: 0.2253 - accuracy: 0.9315 - val_loss: 0.4297 - val_accuracy: 0.8661\n",
      "Epoch 26/30\n",
      "99/99 [==============================] - 4s 41ms/step - loss: 0.2339 - accuracy: 0.9309 - val_loss: 0.3649 - val_accuracy: 0.8775\n",
      "Epoch 27/30\n",
      "99/99 [==============================] - 4s 41ms/step - loss: 0.2218 - accuracy: 0.9296 - val_loss: 0.4014 - val_accuracy: 0.8689\n",
      "Epoch 28/30\n",
      "99/99 [==============================] - 5s 46ms/step - loss: 0.2009 - accuracy: 0.9302 - val_loss: 0.3408 - val_accuracy: 0.8974\n",
      "Epoch 29/30\n",
      "99/99 [==============================] - 4s 43ms/step - loss: 0.1605 - accuracy: 0.9489 - val_loss: 0.3500 - val_accuracy: 0.8946\n",
      "Epoch 30/30\n",
      "99/99 [==============================] - 4s 44ms/step - loss: 0.1547 - accuracy: 0.9534 - val_loss: 0.3681 - val_accuracy: 0.9003\n"
     ]
    }
   ],
   "source": [
    "history = model.fit(X_train, y_train, epochs=30, validation_data=(X_valid, y_valid), batch_size=32)"
   ]
  },
  {
   "cell_type": "code",
   "execution_count": 10,
   "metadata": {
    "execution": {
     "iopub.execute_input": "2023-07-15T12:59:26.257880Z",
     "iopub.status.busy": "2023-07-15T12:59:26.257880Z",
     "iopub.status.idle": "2023-07-15T12:59:26.270755Z",
     "shell.execute_reply": "2023-07-15T12:59:26.269870Z"
    }
   },
   "outputs": [],
   "source": [
    "# data = history.history\n",
    "# pd.DataFrame(data).plot(figsize=(8, 6))\n",
    "# plt.grid(True)\n",
    "# plt.gca().set_ylim(0, 2)\n",
    "# plt.show()"
   ]
  },
  {
   "cell_type": "code",
   "execution_count": 11,
   "metadata": {
    "execution": {
     "iopub.execute_input": "2023-07-15T12:59:26.272811Z",
     "iopub.status.busy": "2023-07-15T12:59:26.272811Z",
     "iopub.status.idle": "2023-07-15T12:59:27.452604Z",
     "shell.execute_reply": "2023-07-15T12:59:27.452604Z"
    }
   },
   "outputs": [
    {
     "name": "stderr",
     "output_type": "stream",
     "text": [
      "WARNING:absl:Found untraced functions such as _jit_compiled_convolution_op, _jit_compiled_convolution_op, _update_step_xla while saving (showing 3 of 3). These functions will not be directly callable after loading.\n"
     ]
    },
    {
     "name": "stdout",
     "output_type": "stream",
     "text": [
      "INFO:tensorflow:Assets written to: ../Saved Data/Model/assets\n"
     ]
    },
    {
     "name": "stderr",
     "output_type": "stream",
     "text": [
      "INFO:tensorflow:Assets written to: ../Saved Data/Model/assets\n"
     ]
    }
   ],
   "source": [
    "model.save(\"../Saved Data/Model/\")\n",
    "model.save(\"../Saved Data/Model Architecture/model.h5\")"
   ]
  }
 ],
 "metadata": {
  "kernelspec": {
   "display_name": "Python 3",
   "language": "python",
   "name": "python3"
  },
  "language_info": {
   "codemirror_mode": {
    "name": "ipython",
    "version": 3
   },
   "file_extension": ".py",
   "mimetype": "text/x-python",
   "name": "python",
   "nbconvert_exporter": "python",
   "pygments_lexer": "ipython3",
   "version": "3.8.6"
  },
  "vscode": {
   "interpreter": {
    "hash": "43b010d9f7d982b0242266748a4ec71b1a1d9ef54f57a230cfc8a9c34419b385"
   }
  }
 },
 "nbformat": 4,
 "nbformat_minor": 2
}
