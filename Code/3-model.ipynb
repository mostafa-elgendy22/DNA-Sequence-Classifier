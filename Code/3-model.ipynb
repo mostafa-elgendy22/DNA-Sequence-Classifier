{
 "cells": [
  {
   "cell_type": "code",
   "execution_count": 1,
   "metadata": {},
   "outputs": [],
   "source": [
    "import numpy as np\n",
    "import pandas as pd\n",
    "from sklearn.model_selection import train_test_split"
   ]
  },
  {
   "cell_type": "code",
   "execution_count": 2,
   "metadata": {},
   "outputs": [
    {
     "name": "stdout",
     "output_type": "stream",
     "text": [
      "(4380, 1024)\n",
      "(4380,)\n"
     ]
    }
   ],
   "source": [
    "human_data = pd.read_table('../Datasets/human_dataset.txt')\n",
    "labels = human_data['class'].to_numpy()\n",
    "dna_spectral_representation = np.load('../DNA Vector Representations/human_dataset_dna_vector.npy')\n",
    "print(dna_spectral_representation.shape)\n",
    "print(labels.shape)"
   ]
  },
  {
   "cell_type": "code",
   "execution_count": 3,
   "metadata": {},
   "outputs": [],
   "source": [
    "X_train, X_test, Y_train, Y_test = train_test_split(dna_spectral_representation, labels, test_size = 0.2)"
   ]
  },
  {
   "cell_type": "markdown",
   "metadata": {},
   "source": [
    "# Model : LeNet5-Architecture CNN using Keras API"
   ]
  },
  {
   "cell_type": "code",
   "execution_count": 3,
   "metadata": {},
   "outputs": [],
   "source": [
    "model = keras.Sequential()\n",
    "\n",
    "model.add(keras.layers.Conv2D(filters=6, kernel_size=(3, 3), activation='relu', input_shape=(32,32,1)))\n",
    "model.add(keras.layers.AveragePooling2D())\n",
    "\n",
    "model.add(keras.layers.Conv2D(filters=16, kernel_size=(3, 3), activation='relu'))\n",
    "model.add(keras.layers.AveragePooling2D())\n",
    "\n",
    "model.add(keras.layers.Flatten())\n",
    "\n",
    "model.add(keras.layers.Dense(units=120, activation='relu'))\n",
    "\n",
    "model.add(keras.layers.Dense(units=84, activation='relu'))\n",
    "\n",
    "model.add(keras.layers.Dense(units=10, activation = 'softmax'))"
   ]
  },
  {
   "cell_type": "code",
   "execution_count": 10,
   "metadata": {},
   "outputs": [
    {
     "data": {
      "text/plain": [
       "<BarContainer object of 1024 artists>"
      ]
     },
     "execution_count": 10,
     "metadata": {},
     "output_type": "execute_result"
    },
    {
     "data": {
      "image/png": "[encoded data removed]",
      "text/plain": [
       "<Figure size 640x480 with 1 Axes>"
      ]
     },
     "metadata": {},
     "output_type": "display_data"
    }
   ],
   "source": [
    "plt.bar(range(1024),dna_sequence_vector[32],width=10)"
   ]
  },
  {
   "cell_type": "code",
   "execution_count": 13,
   "metadata": {},
   "outputs": [
    {
     "data": {
      "text/plain": [
       "array([[ 4,  0,  0, ...,  0,  0,  0],\n",
       "       [ 1,  1,  0, ...,  1,  0,  1],\n",
       "       [ 2,  2,  3, ...,  4,  5,  4],\n",
       "       ...,\n",
       "       [11,  4, 13, ...,  2,  4,  3],\n",
       "       [ 2,  0,  3, ...,  0,  2,  1],\n",
       "       [ 0,  0,  0, ...,  0,  1,  1]])"
      ]
     },
     "execution_count": 13,
     "metadata": {},
     "output_type": "execute_result"
    }
   ],
   "source": [
    "dna_sequence_vector"
   ]
  }
 ],
 "metadata": {
  "kernelspec": {
   "display_name": "Python 3 (ipykernel)",
   "language": "python",
   "name": "python3"
  },
  "language_info": {
   "codemirror_mode": {
    "name": "ipython",
    "version": 3
   },
   "file_extension": ".py",
   "mimetype": "text/x-python",
   "name": "python",
   "nbconvert_exporter": "python",
   "pygments_lexer": "ipython3",
   "version": "3.10.5"
  },
  "vscode": {
   "interpreter": {
    "hash": "47b0946bdb42e5a8db21df9138f17b5cb1a6507cd769a113b48a94aa211b3a2e"
   }
  }
 },
 "nbformat": 4,
 "nbformat_minor": 2
}
