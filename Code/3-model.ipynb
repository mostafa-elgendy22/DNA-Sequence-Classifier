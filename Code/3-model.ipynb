{
 "cells": [
  {
   "cell_type": "code",
   "execution_count": 1,
   "metadata": {},
   "outputs": [],
   "source": [
    "import os\n",
    "os.environ['TF_CPP_MIN_LOG_LEVEL'] = '2'\n",
    "import numpy as np\n",
    "import sys\n",
    "import pandas as pd\n",
    "import json\n",
    "import matplotlib as mpl\n",
    "import matplotlib.pyplot as plt\n",
    "%matplotlib inline\n",
    "from tensorflow import keras\n",
    "from sklearn.model_selection import train_test_split"
   ]
  },
  {
   "cell_type": "code",
   "execution_count": 2,
   "metadata": {},
   "outputs": [],
   "source": [
    "num_classes = str(json.load(open('config.json'))['num_classes'])\n",
    "dataset_file_name = 'human_dataset_' + num_classes + '.txt'\n",
    "labels = pd.read_table('../Datasets/' + dataset_file_name)['class'].to_numpy()\n",
    "dna_spectral_representation = np.load('../Saved Data/dna_spectral_representation.npy')"
   ]
  },
  {
   "cell_type": "code",
   "execution_count": 3,
   "metadata": {},
   "outputs": [],
   "source": [
    "k = int(json.load(open('config.json'))['k'])\n",
    "input_vector_size = np.power(4, k)"
   ]
  },
  {
   "cell_type": "code",
   "execution_count": 4,
   "metadata": {},
   "outputs": [],
   "source": [
    "X_train_full, X_test, y_train_full, y_test = train_test_split(dna_spectral_representation, labels, test_size = 0.2,\n",
    "                                                                random_state=20)\n",
    "\n",
    "X_train, X_valid, y_train, y_valid = train_test_split(X_train_full, y_train_full, test_size = 0.1,\n",
    "                                                        random_state=20)\n",
    "np.save('../Saved Data/Test Set/X_test.npy', X_test)\n",
    "np.save('../Saved Data/Test Set/y_test.npy', y_test)"
   ]
  },
  {
   "cell_type": "markdown",
   "metadata": {},
   "source": [
    "# Model : LeNet5 like Architecture CNN for Text Classification"
   ]
  },
  {
   "cell_type": "code",
   "execution_count": 5,
   "metadata": {},
   "outputs": [],
   "source": [
    "model = keras.Sequential()\n",
    "\n",
    "model.add(keras.layers.Conv1D(filters=30, kernel_size=(5), activation='relu', input_shape=(input_vector_size,1),padding=\"same\"))\n",
    "model.add(keras.layers.MaxPooling1D())\n",
    "\n",
    "model.add(keras.layers.Conv1D(filters=15, kernel_size=(5), activation='relu', input_shape=(int(input_vector_size / 2),1),padding=\"same\"))\n",
    "model.add(keras.layers.MaxPooling1D())\n",
    "\n",
    "model.add(keras.layers.Flatten())\n",
    "\n",
    "model.add(keras.layers.Dense(units=256, activation='relu'))\n",
    "\n",
    "model.add(keras.layers.Dense(units=128, activation='relu'))\n",
    "\n",
    "model.add(keras.layers.Dense(units=64, activation='relu'))\n",
    "\n",
    "model.add(keras.layers.Dense(units=int(num_classes), activation = 'softmax'))"
   ]
  },
  {
   "cell_type": "code",
   "execution_count": 6,
   "metadata": {},
   "outputs": [
    {
     "name": "stdout",
     "output_type": "stream",
     "text": [
      "Model: \"sequential\"\n",
      "_________________________________________________________________\n",
      " Layer (type)                Output Shape              Param #   \n",
      "=================================================================\n",
      " conv1d (Conv1D)             (None, 1024, 30)          180       \n",
      "                                                                 \n",
      " max_pooling1d (MaxPooling1D  (None, 512, 30)          0         \n",
      " )                                                               \n",
      "                                                                 \n",
      " conv1d_1 (Conv1D)           (None, 512, 15)           2265      \n",
      "                                                                 \n",
      " max_pooling1d_1 (MaxPooling  (None, 256, 15)          0         \n",
      " 1D)                                                             \n",
      "                                                                 \n",
      " flatten (Flatten)           (None, 3840)              0         \n",
      "                                                                 \n",
      " dense (Dense)               (None, 256)               983296    \n",
      "                                                                 \n",
      " dense_1 (Dense)             (None, 128)               32896     \n",
      "                                                                 \n",
      " dense_2 (Dense)             (None, 64)                8256      \n",
      "                                                                 \n",
      " dense_3 (Dense)             (None, 6)                 390       \n",
      "                                                                 \n",
      "=================================================================\n",
      "Total params: 1,027,283\n",
      "Trainable params: 1,027,283\n",
      "Non-trainable params: 0\n",
      "_________________________________________________________________\n"
     ]
    }
   ],
   "source": [
    "model.summary()"
   ]
  },
  {
   "cell_type": "code",
   "execution_count": 7,
   "metadata": {},
   "outputs": [],
   "source": [
    "opt = keras.optimizers.SGD(learning_rate=0.045 ,momentum = 0.0)\n",
    "model.compile(loss=\"sparse_categorical_crossentropy\", optimizer=opt, metrics=[\"accuracy\"])"
   ]
  },
  {
   "cell_type": "code",
   "execution_count": 8,
   "metadata": {
    "scrolled": false
   },
   "outputs": [
    {
     "name": "stdout",
     "output_type": "stream",
     "text": [
      "Epoch 1/7\n",
      "94/94 [==============================] - 2s 22ms/step - loss: 1.5511 - accuracy: 0.3987 - val_loss: 1.8159 - val_accuracy: 0.3825\n",
      "Epoch 2/7\n",
      "94/94 [==============================] - 2s 18ms/step - loss: 1.1532 - accuracy: 0.5826 - val_loss: 2.0987 - val_accuracy: 0.3434\n",
      "Epoch 3/7\n",
      "94/94 [==============================] - 2s 22ms/step - loss: 0.8285 - accuracy: 0.7097 - val_loss: 1.6713 - val_accuracy: 0.5934\n",
      "Epoch 4/7\n",
      "94/94 [==============================] - 2s 22ms/step - loss: 0.6192 - accuracy: 0.7930 - val_loss: 1.9397 - val_accuracy: 0.4849\n",
      "Epoch 5/7\n",
      "94/94 [==============================] - 2s 18ms/step - loss: 0.4914 - accuracy: 0.8530 - val_loss: 2.4658 - val_accuracy: 0.4729\n",
      "Epoch 6/7\n",
      "94/94 [==============================] - 2s 18ms/step - loss: 0.3416 - accuracy: 0.8933 - val_loss: 3.4032 - val_accuracy: 0.4669\n",
      "Epoch 7/7\n",
      "94/94 [==============================] - 2s 17ms/step - loss: 0.2427 - accuracy: 0.9299 - val_loss: 1.1896 - val_accuracy: 0.7319\n"
     ]
    }
   ],
   "source": [
    "earlyStop = keras.callbacks.EarlyStopping(monitor='loss', patience=1 , mode=\"min\")\n",
    "# class_weight = {0 : 0.121233,\n",
    "#                 1 : 0.121918,\n",
    "#                 2 : 0.079680,\n",
    "#                 3 : 0.153425,\n",
    "#                 4 : 0.162329,\n",
    "#                 5 : 0.054795,\n",
    "#                 6 : 0.306621}\n",
    "# class_weight = class_weight,\n",
    "history = model.fit(X_train, y_train, epochs=7 ,validation_data=(X_valid, y_valid),\n",
    "                    batch_size = 32 , callbacks = [earlyStop])"
   ]
  },
  {
   "cell_type": "code",
   "execution_count": 9,
   "metadata": {},
   "outputs": [],
   "source": [
    "# data = history.history\n",
    "# pd.DataFrame(data).plot(figsize=(8, 6))\n",
    "# plt.grid(True)\n",
    "# plt.gca().set_ylim(0, 2)\n",
    "# plt.show()"
   ]
  },
  {
   "cell_type": "code",
   "execution_count": 10,
   "metadata": {},
   "outputs": [
    {
     "name": "stderr",
     "output_type": "stream",
     "text": [
      "WARNING:absl:Found untraced functions such as _jit_compiled_convolution_op, _jit_compiled_convolution_op while saving (showing 2 of 2). These functions will not be directly callable after loading.\n"
     ]
    },
    {
     "name": "stdout",
     "output_type": "stream",
     "text": [
      "INFO:tensorflow:Assets written to: ../Saved Data/Model/assets\n"
     ]
    },
    {
     "name": "stderr",
     "output_type": "stream",
     "text": [
      "INFO:tensorflow:Assets written to: ../Saved Data/Model/assets\n"
     ]
    }
   ],
   "source": [
    "model.save(\"../Saved Data/Model/\")\n",
    "model.save(\"../Saved Data/Model Architecture/model.h5\")"
   ]
  }
 ],
 "metadata": {
  "kernelspec": {
   "display_name": "Python 3.9.10 64-bit",
   "language": "python",
   "name": "python3"
  },
  "language_info": {
   "codemirror_mode": {
    "name": "ipython",
    "version": 3
   },
   "file_extension": ".py",
   "mimetype": "text/x-python",
   "name": "python",
   "nbconvert_exporter": "python",
   "pygments_lexer": "ipython3",
   "version": "3.7.4"
  },
  "vscode": {
   "interpreter": {
    "hash": "47b0946bdb42e5a8db21df9138f17b5cb1a6507cd769a113b48a94aa211b3a2e"
   }
  }
 },
 "nbformat": 4,
 "nbformat_minor": 2
}
