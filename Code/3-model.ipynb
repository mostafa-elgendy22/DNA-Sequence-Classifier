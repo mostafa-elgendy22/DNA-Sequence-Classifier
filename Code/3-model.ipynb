{
 "cells": [
  {
   "cell_type": "code",
   "execution_count": 1,
   "metadata": {
    "execution": {
     "iopub.execute_input": "2023-02-12T15:34:19.561513Z",
     "iopub.status.busy": "2023-02-12T15:34:19.561513Z",
     "iopub.status.idle": "2023-02-12T15:34:26.993341Z",
     "shell.execute_reply": "2023-02-12T15:34:26.993341Z"
    }
   },
   "outputs": [],
   "source": [
    "import os\n",
    "os.environ['TF_CPP_MIN_LOG_LEVEL'] = '2'\n",
    "import numpy as np\n",
    "import sys\n",
    "import pandas as pd\n",
    "import matplotlib as mpl\n",
    "import matplotlib.pyplot as plt\n",
    "%matplotlib inline\n",
    "from tensorflow import keras\n",
    "from sklearn.model_selection import train_test_split"
   ]
  },
  {
   "cell_type": "code",
   "execution_count": 2,
   "metadata": {
    "execution": {
     "iopub.execute_input": "2023-02-12T15:34:26.997278Z",
     "iopub.status.busy": "2023-02-12T15:34:26.997278Z",
     "iopub.status.idle": "2023-02-12T15:34:27.061483Z",
     "shell.execute_reply": "2023-02-12T15:34:27.061483Z"
    }
   },
   "outputs": [],
   "source": [
    "dataset_file_name = 'human_dataset.txt'\n",
    "y_train_full = np.load('../Saved Data/Training Set/labels.npy')\n",
    "X_train_full = np.load('../Saved Data/Training Set/dna_spectral_representation.npy')"
   ]
  },
  {
   "cell_type": "code",
   "execution_count": 3,
   "metadata": {
    "execution": {
     "iopub.execute_input": "2023-02-12T15:34:27.061483Z",
     "iopub.status.busy": "2023-02-12T15:34:27.061483Z",
     "iopub.status.idle": "2023-02-12T15:34:27.095294Z",
     "shell.execute_reply": "2023-02-12T15:34:27.091912Z"
    }
   },
   "outputs": [],
   "source": [
    "k = 5\n",
    "input_vector_size = np.power(4, k)"
   ]
  },
  {
   "cell_type": "code",
   "execution_count": 4,
   "metadata": {
    "execution": {
     "iopub.execute_input": "2023-02-12T15:34:27.105410Z",
     "iopub.status.busy": "2023-02-12T15:34:27.103406Z",
     "iopub.status.idle": "2023-02-12T15:34:27.127848Z",
     "shell.execute_reply": "2023-02-12T15:34:27.125327Z"
    }
   },
   "outputs": [],
   "source": [
    "X_train, X_valid, y_train, y_valid = train_test_split(X_train_full, y_train_full, test_size = 0.1,\n",
    "                                                        random_state=20)"
   ]
  },
  {
   "cell_type": "markdown",
   "metadata": {},
   "source": [
    "# Model : LeNet5 like Architecture CNN for Text Classification"
   ]
  },
  {
   "cell_type": "code",
   "execution_count": 5,
   "metadata": {
    "execution": {
     "iopub.execute_input": "2023-02-12T15:34:27.135017Z",
     "iopub.status.busy": "2023-02-12T15:34:27.134113Z",
     "iopub.status.idle": "2023-02-12T15:34:27.532773Z",
     "shell.execute_reply": "2023-02-12T15:34:27.529659Z"
    }
   },
   "outputs": [],
   "source": [
    "model = keras.Sequential()\n",
    "\n",
    "model.add(keras.layers.Conv1D(filters=30, kernel_size=(5), activation='relu', input_shape=(input_vector_size,1),padding=\"same\"))\n",
    "model.add(keras.layers.MaxPooling1D())\n",
    "\n",
    "model.add(keras.layers.Conv1D(filters=15, kernel_size=(5), activation='relu', input_shape=(int(input_vector_size / 2),1),padding=\"same\"))\n",
    "model.add(keras.layers.MaxPooling1D())\n",
    "\n",
    "model.add(keras.layers.Flatten())\n",
    "\n",
    "model.add(keras.layers.Dense(units=256, activation='relu'))\n",
    "\n",
    "model.add(keras.layers.Dense(units=128, activation='relu'))\n",
    "\n",
    "model.add(keras.layers.Dense(units=64, activation='relu'))\n",
    "\n",
    "model.add(keras.layers.Dense(units=int(7), activation = 'softmax'))"
   ]
  },
  {
   "cell_type": "code",
   "execution_count": 6,
   "metadata": {
    "execution": {
     "iopub.execute_input": "2023-02-12T15:34:27.539217Z",
     "iopub.status.busy": "2023-02-12T15:34:27.538681Z",
     "iopub.status.idle": "2023-02-12T15:34:27.585258Z",
     "shell.execute_reply": "2023-02-12T15:34:27.582820Z"
    }
   },
   "outputs": [
    {
     "name": "stdout",
     "output_type": "stream",
     "text": [
      "Model: \"sequential\"\n",
      "_________________________________________________________________\n",
      " Layer (type)                Output Shape              Param #   \n",
      "=================================================================\n",
      " conv1d (Conv1D)             (None, 1024, 30)          180       \n",
      "                                                                 \n",
      " max_pooling1d (MaxPooling1D  (None, 512, 30)          0         \n",
      " )                                                               \n",
      "                                                                 \n",
      " conv1d_1 (Conv1D)           (None, 512, 15)           2265      \n",
      "                                                                 \n",
      " max_pooling1d_1 (MaxPooling  (None, 256, 15)          0         \n",
      " 1D)                                                             \n",
      "                                                                 \n",
      " flatten (Flatten)           (None, 3840)              0         \n",
      "                                                                 \n",
      " dense (Dense)               (None, 256)               983296    \n",
      "                                                                 \n",
      " dense_1 (Dense)             (None, 128)               32896     \n",
      "                                                                 \n",
      " dense_2 (Dense)             (None, 64)                8256      \n",
      "                                                                 \n",
      " dense_3 (Dense)             (None, 7)                 455       \n",
      "                                                                 \n",
      "=================================================================\n",
      "Total params: 1,027,348\n",
      "Trainable params: 1,027,348\n",
      "Non-trainable params: 0\n",
      "_________________________________________________________________\n"
     ]
    }
   ],
   "source": [
    "model.summary()"
   ]
  },
  {
   "cell_type": "code",
   "execution_count": 7,
   "metadata": {
    "execution": {
     "iopub.execute_input": "2023-02-12T15:34:27.693710Z",
     "iopub.status.busy": "2023-02-12T15:34:27.693710Z",
     "iopub.status.idle": "2023-02-12T15:34:27.734957Z",
     "shell.execute_reply": "2023-02-12T15:34:27.734957Z"
    }
   },
   "outputs": [],
   "source": [
    "opt = keras.optimizers.SGD(learning_rate=0.045 ,momentum = 0.0)\n",
    "model.compile(loss=\"sparse_categorical_crossentropy\", optimizer=opt, metrics=[\"accuracy\"])"
   ]
  },
  {
   "cell_type": "code",
   "execution_count": 8,
   "metadata": {
    "execution": {
     "iopub.execute_input": "2023-02-12T15:34:27.742877Z",
     "iopub.status.busy": "2023-02-12T15:34:27.742877Z",
     "iopub.status.idle": "2023-02-12T15:35:01.538458Z",
     "shell.execute_reply": "2023-02-12T15:35:01.535082Z"
    },
    "scrolled": false
   },
   "outputs": [
    {
     "name": "stdout",
     "output_type": "stream",
     "text": [
      "Epoch 1/7\n",
      "99/99 [==============================] - 7s 48ms/step - loss: 1.7226 - accuracy: 0.3650 - val_loss: 1.6615 - val_accuracy: 0.3989\n",
      "Epoch 2/7\n",
      "99/99 [==============================] - 4s 40ms/step - loss: 1.2712 - accuracy: 0.5423 - val_loss: 1.3395 - val_accuracy: 0.5556\n",
      "Epoch 3/7\n",
      "99/99 [==============================] - 5s 48ms/step - loss: 1.0001 - accuracy: 0.6622 - val_loss: 1.0006 - val_accuracy: 0.6211\n",
      "Epoch 4/7\n",
      "99/99 [==============================] - 5s 47ms/step - loss: 0.6583 - accuracy: 0.7894 - val_loss: 0.6814 - val_accuracy: 0.7550\n",
      "Epoch 5/7\n",
      "99/99 [==============================] - 4s 45ms/step - loss: 0.4772 - accuracy: 0.8462 - val_loss: 0.5690 - val_accuracy: 0.8319\n",
      "Epoch 6/7\n",
      "99/99 [==============================] - 5s 45ms/step - loss: 0.2512 - accuracy: 0.9220 - val_loss: 0.7757 - val_accuracy: 0.7578\n",
      "Epoch 7/7\n",
      "99/99 [==============================] - 4s 45ms/step - loss: 0.1120 - accuracy: 0.9721 - val_loss: 0.4284 - val_accuracy: 0.8832\n"
     ]
    }
   ],
   "source": [
    "earlyStop = keras.callbacks.EarlyStopping(monitor='loss', patience=1 , mode=\"min\")\n",
    "\n",
    "history = model.fit(X_train, y_train, epochs=7 ,validation_data=(X_valid, y_valid),\n",
    "                    batch_size = 32 , callbacks = [earlyStop])"
   ]
  },
  {
   "cell_type": "code",
   "execution_count": 9,
   "metadata": {
    "execution": {
     "iopub.execute_input": "2023-02-12T15:35:01.548175Z",
     "iopub.status.busy": "2023-02-12T15:35:01.548175Z",
     "iopub.status.idle": "2023-02-12T15:35:01.564243Z",
     "shell.execute_reply": "2023-02-12T15:35:01.564243Z"
    }
   },
   "outputs": [],
   "source": [
    "# data = history.history\n",
    "# pd.DataFrame(data).plot(figsize=(8, 6))\n",
    "# plt.grid(True)\n",
    "# plt.gca().set_ylim(0, 2)\n",
    "# plt.show()"
   ]
  },
  {
   "cell_type": "code",
   "execution_count": 10,
   "metadata": {
    "execution": {
     "iopub.execute_input": "2023-02-12T15:35:01.568381Z",
     "iopub.status.busy": "2023-02-12T15:35:01.568381Z",
     "iopub.status.idle": "2023-02-12T15:35:05.251730Z",
     "shell.execute_reply": "2023-02-12T15:35:05.251730Z"
    }
   },
   "outputs": [
    {
     "name": "stderr",
     "output_type": "stream",
     "text": [
      "WARNING:absl:Found untraced functions such as _jit_compiled_convolution_op, _jit_compiled_convolution_op, _update_step_xla while saving (showing 3 of 3). These functions will not be directly callable after loading.\n"
     ]
    },
    {
     "name": "stdout",
     "output_type": "stream",
     "text": [
      "INFO:tensorflow:Assets written to: ../Saved Data/Model/assets\n"
     ]
    },
    {
     "name": "stderr",
     "output_type": "stream",
     "text": [
      "INFO:tensorflow:Assets written to: ../Saved Data/Model/assets\n"
     ]
    }
   ],
   "source": [
    "model.save(\"../Saved Data/Model/\")\n",
    "model.save(\"../Saved Data/Model Architecture/model.h5\")"
   ]
  }
 ],
 "metadata": {
  "kernelspec": {
   "display_name": "Python 3",
   "language": "python",
   "name": "python3"
  },
  "language_info": {
   "codemirror_mode": {
    "name": "ipython",
    "version": 3
   },
   "file_extension": ".py",
   "mimetype": "text/x-python",
   "name": "python",
   "nbconvert_exporter": "python",
   "pygments_lexer": "ipython3",
   "version": "3.8.6"
  },
  "vscode": {
   "interpreter": {
    "hash": "43b010d9f7d982b0242266748a4ec71b1a1d9ef54f57a230cfc8a9c34419b385"
   }
  }
 },
 "nbformat": 4,
 "nbformat_minor": 2
}
