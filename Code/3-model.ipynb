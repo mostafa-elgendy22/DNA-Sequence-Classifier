{
 "cells": [
  {
   "cell_type": "code",
   "execution_count": 2,
   "metadata": {},
   "outputs": [],
   "source": [
    "import numpy as np\n",
    "import pandas as pd\n",
    "from sklearn.model_selection import train_test_split\n",
    "import tensorflow as tf\n",
    "from tensorflow import keras\n",
    "import matplotlib as mpl\n",
    "import matplotlib.pyplot as plt"
   ]
  },
  {
   "cell_type": "code",
   "execution_count": 3,
   "metadata": {},
   "outputs": [
    {
     "name": "stdout",
     "output_type": "stream",
     "text": [
      "(4380, 1024)\n",
      "(4380,)\n"
     ]
    }
   ],
   "source": [
    "human_data = pd.read_table('../Datasets/human_dataset.txt')\n",
    "labels = human_data['class'].to_numpy()\n",
    "dna_spectral_representation = np.load('../DNA Vector Representations/human_dataset_dna_vector.npy')\n",
    "print(dna_spectral_representation.shape)\n",
    "print(labels.shape)"
   ]
  },
  {
   "cell_type": "code",
   "execution_count": 4,
   "metadata": {},
   "outputs": [],
   "source": [
    "X_train_full, X_test, y_train_full, y_test = train_test_split(dna_spectral_representation, labels, test_size = 0.2)"
   ]
  },
  {
   "cell_type": "markdown",
   "metadata": {},
   "source": [
    "# Model : LeNet5 like Architecture CNN for Text Classification"
   ]
  },
  {
   "cell_type": "code",
   "execution_count": 5,
   "metadata": {},
   "outputs": [],
   "source": [
    "model = keras.Sequential()\n",
    "\n",
    "model.add(keras.layers.Conv1D(filters=10, kernel_size=(10), activation='relu', input_shape=(1024,1),padding=\"same\"))\n",
    "model.add(keras.layers.MaxPooling1D())\n",
    "\n",
    "model.add(keras.layers.Conv1D(filters=20, kernel_size=(5), activation='relu', input_shape=(1024,1),padding=\"same\"))\n",
    "model.add(keras.layers.MaxPooling1D())\n",
    "\n",
    "model.add(keras.layers.Flatten())\n",
    "\n",
    "model.add(keras.layers.Dense(units=256, activation='relu'))\n",
    "\n",
    "model.add(keras.layers.Dense(units=128, activation='relu'))\n",
    "\n",
    "model.add(keras.layers.Dense(units=7, activation = 'softmax'))"
   ]
  },
  {
   "cell_type": "code",
   "execution_count": 6,
   "metadata": {},
   "outputs": [
    {
     "name": "stdout",
     "output_type": "stream",
     "text": [
      "Model: \"sequential\"\n",
      "_________________________________________________________________\n",
      " Layer (type)                Output Shape              Param #   \n",
      "=================================================================\n",
      " conv1d (Conv1D)             (None, 1024, 10)          110       \n",
      "                                                                 \n",
      " max_pooling1d (MaxPooling1D  (None, 512, 10)          0         \n",
      " )                                                               \n",
      "                                                                 \n",
      " conv1d_1 (Conv1D)           (None, 512, 20)           1020      \n",
      "                                                                 \n",
      " max_pooling1d_1 (MaxPooling  (None, 256, 20)          0         \n",
      " 1D)                                                             \n",
      "                                                                 \n",
      " flatten (Flatten)           (None, 5120)              0         \n",
      "                                                                 \n",
      " dense (Dense)               (None, 256)               1310976   \n",
      "                                                                 \n",
      " dense_1 (Dense)             (None, 128)               32896     \n",
      "                                                                 \n",
      " dense_2 (Dense)             (None, 7)                 903       \n",
      "                                                                 \n",
      "=================================================================\n",
      "Total params: 1,345,905\n",
      "Trainable params: 1,345,905\n",
      "Non-trainable params: 0\n",
      "_________________________________________________________________\n"
     ]
    }
   ],
   "source": [
    "model.summary()"
   ]
  },
  {
   "cell_type": "code",
   "execution_count": null,
   "metadata": {},
   "outputs": [],
   "source": [
    "keras.backend.clear_session()"
   ]
  },
  {
   "cell_type": "code",
   "execution_count": 7,
   "metadata": {},
   "outputs": [],
   "source": [
    "model.compile(loss=\"sparse_categorical_crossentropy\",optimizer=\"sgd\",metrics=[\"accuracy\"])"
   ]
  },
  {
   "cell_type": "code",
   "execution_count": 8,
   "metadata": {},
   "outputs": [],
   "source": [
    "X_valid, X_train = X_train_full[:438], X_train_full[438:]\n",
    "y_valid, y_train = y_train_full[:438], y_train_full[438:]"
   ]
  },
  {
   "cell_type": "code",
   "execution_count": 10,
   "metadata": {
    "scrolled": false
   },
   "outputs": [
    {
     "name": "stdout",
     "output_type": "stream",
     "text": [
      "Epoch 1/30\n",
      "96/96 [==============================] - 1s 15ms/step - loss: 0.0116 - accuracy: 0.9997 - val_loss: 1.0005 - val_accuracy: 0.8288\n",
      "Epoch 2/30\n",
      "96/96 [==============================] - 1s 15ms/step - loss: 0.0103 - accuracy: 0.9997 - val_loss: 1.0348 - val_accuracy: 0.8265\n",
      "Epoch 3/30\n",
      "96/96 [==============================] - 1s 15ms/step - loss: 0.0093 - accuracy: 0.9997 - val_loss: 1.0321 - val_accuracy: 0.8288\n",
      "Epoch 4/30\n",
      "96/96 [==============================] - 1s 15ms/step - loss: 0.0084 - accuracy: 0.9997 - val_loss: 1.0239 - val_accuracy: 0.8288\n",
      "Epoch 5/30\n",
      "96/96 [==============================] - 1s 15ms/step - loss: 0.0076 - accuracy: 0.9997 - val_loss: 1.0671 - val_accuracy: 0.8174\n",
      "Epoch 6/30\n",
      "96/96 [==============================] - 1s 15ms/step - loss: 0.0069 - accuracy: 1.0000 - val_loss: 1.0945 - val_accuracy: 0.8242\n",
      "Epoch 7/30\n",
      "96/96 [==============================] - 1s 15ms/step - loss: 0.0064 - accuracy: 1.0000 - val_loss: 1.0843 - val_accuracy: 0.8196\n",
      "Epoch 8/30\n",
      "96/96 [==============================] - 1s 14ms/step - loss: 0.0059 - accuracy: 1.0000 - val_loss: 1.0901 - val_accuracy: 0.8219\n",
      "Epoch 9/30\n",
      "96/96 [==============================] - 1s 15ms/step - loss: 0.0055 - accuracy: 1.0000 - val_loss: 1.0953 - val_accuracy: 0.8219\n",
      "Epoch 10/30\n",
      "96/96 [==============================] - 1s 15ms/step - loss: 0.0051 - accuracy: 1.0000 - val_loss: 1.1012 - val_accuracy: 0.8196\n",
      "Epoch 11/30\n",
      "96/96 [==============================] - 1s 15ms/step - loss: 0.0047 - accuracy: 1.0000 - val_loss: 1.1143 - val_accuracy: 0.8219\n",
      "Epoch 12/30\n",
      "96/96 [==============================] - 1s 15ms/step - loss: 0.0044 - accuracy: 1.0000 - val_loss: 1.1411 - val_accuracy: 0.8196\n",
      "Epoch 13/30\n",
      "96/96 [==============================] - 1s 15ms/step - loss: 0.0041 - accuracy: 1.0000 - val_loss: 1.1545 - val_accuracy: 0.8219\n",
      "Epoch 14/30\n",
      "96/96 [==============================] - 1s 15ms/step - loss: 0.0039 - accuracy: 1.0000 - val_loss: 1.1567 - val_accuracy: 0.8196\n",
      "Epoch 15/30\n",
      "96/96 [==============================] - 1s 15ms/step - loss: 0.0037 - accuracy: 1.0000 - val_loss: 1.1439 - val_accuracy: 0.8219\n",
      "Epoch 16/30\n",
      "96/96 [==============================] - 1s 15ms/step - loss: 0.0034 - accuracy: 1.0000 - val_loss: 1.1750 - val_accuracy: 0.8196\n",
      "Epoch 17/30\n",
      "96/96 [==============================] - 1s 15ms/step - loss: 0.0033 - accuracy: 1.0000 - val_loss: 1.1757 - val_accuracy: 0.8174\n",
      "Epoch 18/30\n",
      "96/96 [==============================] - 2s 16ms/step - loss: 0.0031 - accuracy: 1.0000 - val_loss: 1.1942 - val_accuracy: 0.8219\n",
      "Epoch 19/30\n",
      "96/96 [==============================] - 1s 15ms/step - loss: 0.0029 - accuracy: 1.0000 - val_loss: 1.1903 - val_accuracy: 0.8174\n",
      "Epoch 20/30\n",
      "96/96 [==============================] - 1s 15ms/step - loss: 0.0028 - accuracy: 1.0000 - val_loss: 1.1983 - val_accuracy: 0.8196\n",
      "Epoch 21/30\n",
      "96/96 [==============================] - 1s 15ms/step - loss: 0.0027 - accuracy: 1.0000 - val_loss: 1.2038 - val_accuracy: 0.8151\n",
      "Epoch 22/30\n",
      "96/96 [==============================] - 1s 15ms/step - loss: 0.0026 - accuracy: 1.0000 - val_loss: 1.2103 - val_accuracy: 0.8151\n",
      "Epoch 23/30\n",
      "96/96 [==============================] - 2s 17ms/step - loss: 0.0025 - accuracy: 1.0000 - val_loss: 1.2042 - val_accuracy: 0.8128\n",
      "Epoch 24/30\n",
      "96/96 [==============================] - 2s 17ms/step - loss: 0.0024 - accuracy: 1.0000 - val_loss: 1.2180 - val_accuracy: 0.8151\n",
      "Epoch 25/30\n",
      "96/96 [==============================] - 2s 17ms/step - loss: 0.0023 - accuracy: 1.0000 - val_loss: 1.2230 - val_accuracy: 0.8128\n",
      "Epoch 26/30\n",
      "96/96 [==============================] - 1s 15ms/step - loss: 0.0022 - accuracy: 1.0000 - val_loss: 1.2468 - val_accuracy: 0.8151\n",
      "Epoch 27/30\n",
      "96/96 [==============================] - 1s 14ms/step - loss: 0.0021 - accuracy: 1.0000 - val_loss: 1.2328 - val_accuracy: 0.8151\n",
      "Epoch 28/30\n",
      "96/96 [==============================] - 1s 14ms/step - loss: 0.0020 - accuracy: 1.0000 - val_loss: 1.2277 - val_accuracy: 0.8174\n",
      "Epoch 29/30\n",
      "96/96 [==============================] - 1s 14ms/step - loss: 0.0019 - accuracy: 1.0000 - val_loss: 1.2494 - val_accuracy: 0.8105\n",
      "Epoch 30/30\n",
      "96/96 [==============================] - 1s 14ms/step - loss: 0.0019 - accuracy: 1.0000 - val_loss: 1.2629 - val_accuracy: 0.8174\n"
     ]
    }
   ],
   "source": [
    "history = model.fit(X_train, y_train, epochs=30,validation_data=(X_valid, y_valid))"
   ]
  },
  {
   "cell_type": "code",
   "execution_count": null,
   "metadata": {},
   "outputs": [],
   "source": [
    "plt.bar(range(1024),X_train[3000],width=10)"
   ]
  }
 ],
 "metadata": {
  "kernelspec": {
   "display_name": "Python 3 (ipykernel)",
   "language": "python",
   "name": "python3"
  },
  "language_info": {
   "codemirror_mode": {
    "name": "ipython",
    "version": 3
   },
   "file_extension": ".py",
   "mimetype": "text/x-python",
   "name": "python",
   "nbconvert_exporter": "python",
   "pygments_lexer": "ipython3",
   "version": "3.10.5"
  },
  "vscode": {
   "interpreter": {
    "hash": "369f2c481f4da34e4445cda3fffd2e751bd1c4d706f27375911949ba6bb62e1c"
   }
  }
 },
 "nbformat": 4,
 "nbformat_minor": 2
}
