{
 "cells": [
  {
   "cell_type": "code",
   "execution_count": 1,
   "metadata": {
    "execution": {
     "iopub.execute_input": "2023-07-15T12:33:24.152085Z",
     "iopub.status.busy": "2023-07-15T12:33:24.151075Z",
     "iopub.status.idle": "2023-07-15T12:33:29.512486Z",
     "shell.execute_reply": "2023-07-15T12:33:29.511484Z"
    }
   },
   "outputs": [
    {
     "name": "stdout",
     "output_type": "stream",
     "text": [
      "WARNING:tensorflow:From C:\\Users\\mosel\\AppData\\Local\\Temp\\ipykernel_10236\\1086260466.py:24: The name tf.keras.backend.set_session is deprecated. Please use tf.compat.v1.keras.backend.set_session instead.\n",
      "\n"
     ]
    }
   ],
   "source": [
    "import os\n",
    "os.environ['TF_CPP_MIN_LOG_LEVEL'] = '2'\n",
    "# Seed value\n",
    "seed_value = 55\n",
    "\n",
    "# 1. Set the `PYTHONHASHSEED` environment variable at a fixed value\n",
    "import os\n",
    "os.environ['PYTHONHASHSEED']=str(seed_value)\n",
    "\n",
    "# 2. Set the `python` built-in pseudo-random generator at a fixed value\n",
    "import random\n",
    "random.seed(seed_value)\n",
    "\n",
    "# 3. Set the `numpy` pseudo-random generator at a fixed value\n",
    "import numpy as np\n",
    "np.random.seed(seed_value)\n",
    "\n",
    "# 4. Set the `tensorflow` pseudo-random generator at a fixed value\n",
    "import tensorflow as tf\n",
    "tf.random.set_seed(seed_value)\n",
    "\n",
    "session_conf = tf.compat.v1.ConfigProto(intra_op_parallelism_threads=1, inter_op_parallelism_threads=1)\n",
    "sess = tf.compat.v1.Session(graph=tf.compat.v1.get_default_graph(), config=session_conf)\n",
    "tf.compat.v1.keras.backend.set_session(sess)"
   ]
  },
  {
   "cell_type": "code",
   "execution_count": 2,
   "metadata": {
    "execution": {
     "iopub.execute_input": "2023-07-15T12:33:29.538934Z",
     "iopub.status.busy": "2023-07-15T12:33:29.537917Z",
     "iopub.status.idle": "2023-07-15T12:33:30.513498Z",
     "shell.execute_reply": "2023-07-15T12:33:30.513498Z"
    }
   },
   "outputs": [],
   "source": [
    "import numpy as np\n",
    "import pandas as pd\n",
    "import matplotlib as mpl\n",
    "import matplotlib.pyplot as plt\n",
    "%matplotlib inline\n",
    "from tensorflow import keras\n",
    "from sklearn.model_selection import train_test_split"
   ]
  },
  {
   "cell_type": "code",
   "execution_count": 3,
   "metadata": {
    "execution": {
     "iopub.execute_input": "2023-07-15T12:33:30.517490Z",
     "iopub.status.busy": "2023-07-15T12:33:30.516470Z",
     "iopub.status.idle": "2023-07-15T12:33:30.546192Z",
     "shell.execute_reply": "2023-07-15T12:33:30.545363Z"
    }
   },
   "outputs": [],
   "source": [
    "dataset_file_name = 'human_dataset.txt'\n",
    "y_train_full = np.load('../Saved Data/Training Set/labels.npy')\n",
    "X_train_full = np.load('../Saved Data/Training Set/dna_spectral_representation.npy')"
   ]
  },
  {
   "cell_type": "code",
   "execution_count": 4,
   "metadata": {
    "execution": {
     "iopub.execute_input": "2023-07-15T12:33:30.549212Z",
     "iopub.status.busy": "2023-07-15T12:33:30.548278Z",
     "iopub.status.idle": "2023-07-15T12:33:30.562251Z",
     "shell.execute_reply": "2023-07-15T12:33:30.561364Z"
    }
   },
   "outputs": [],
   "source": [
    "k = 5\n",
    "input_vector_size = np.power(4, k)"
   ]
  },
  {
   "cell_type": "code",
   "execution_count": 5,
   "metadata": {
    "execution": {
     "iopub.execute_input": "2023-07-15T12:33:30.565274Z",
     "iopub.status.busy": "2023-07-15T12:33:30.565274Z",
     "iopub.status.idle": "2023-07-15T12:33:30.578079Z",
     "shell.execute_reply": "2023-07-15T12:33:30.577018Z"
    }
   },
   "outputs": [],
   "source": [
    "X_train, X_valid, y_train, y_valid = train_test_split(X_train_full, y_train_full, test_size = 0.1,\n",
    "                                                        random_state=20)"
   ]
  },
  {
   "cell_type": "markdown",
   "metadata": {},
   "source": [
    "# Model : LeNet5 like Architecture CNN for Text Classification"
   ]
  },
  {
   "cell_type": "code",
   "execution_count": 6,
   "metadata": {
    "execution": {
     "iopub.execute_input": "2023-07-15T12:33:30.580545Z",
     "iopub.status.busy": "2023-07-15T12:33:30.580545Z",
     "iopub.status.idle": "2023-07-15T12:33:30.720860Z",
     "shell.execute_reply": "2023-07-15T12:33:30.718564Z"
    }
   },
   "outputs": [],
   "source": [
    "model = keras.Sequential()\n",
    "\n",
    "model.add(keras.layers.Conv1D(filters=30, kernel_size=(5), activation='relu', input_shape=(input_vector_size, 1),padding=\"same\"))\n",
    "model.add(keras.layers.MaxPooling1D())\n",
    "\n",
    "model.add(keras.layers.Conv1D(filters=15, kernel_size=(5), activation='relu', input_shape=(int(input_vector_size / 2), 1), padding=\"same\"))\n",
    "model.add(keras.layers.MaxPooling1D())\n",
    "\n",
    "model.add(keras.layers.Flatten())\n",
    "\n",
    "model.add(keras.layers.Dense(units=256, activation='relu'))\n",
    "\n",
    "model.add(keras.layers.Dense(units=128, activation='relu'))\n",
    "\n",
    "model.add(keras.layers.Dense(units=64, activation='relu'))\n",
    "\n",
    "model.add(keras.layers.Dense(units=int(7), activation = 'softmax'))"
   ]
  },
  {
   "cell_type": "code",
   "execution_count": 7,
   "metadata": {
    "execution": {
     "iopub.execute_input": "2023-07-15T12:33:30.724872Z",
     "iopub.status.busy": "2023-07-15T12:33:30.724872Z",
     "iopub.status.idle": "2023-07-15T12:33:30.748992Z",
     "shell.execute_reply": "2023-07-15T12:33:30.748992Z"
    }
   },
   "outputs": [
    {
     "name": "stdout",
     "output_type": "stream",
     "text": [
      "Model: \"sequential\"\n",
      "_________________________________________________________________\n",
      " Layer (type)                Output Shape              Param #   \n",
      "=================================================================\n",
      " conv1d (Conv1D)             (None, 1024, 30)          180       \n",
      "                                                                 \n",
      " max_pooling1d (MaxPooling1D  (None, 512, 30)          0         \n",
      " )                                                               \n",
      "                                                                 \n",
      " conv1d_1 (Conv1D)           (None, 512, 15)           2265      \n",
      "                                                                 \n",
      " max_pooling1d_1 (MaxPooling  (None, 256, 15)          0         \n",
      " 1D)                                                             \n",
      "                                                                 \n",
      " flatten (Flatten)           (None, 3840)              0         \n",
      "                                                                 \n",
      " dense (Dense)               (None, 256)               983296    \n",
      "                                                                 \n",
      " dense_1 (Dense)             (None, 128)               32896     \n",
      "                                                                 \n",
      " dense_2 (Dense)             (None, 64)                8256      \n",
      "                                                                 \n",
      " dense_3 (Dense)             (None, 7)                 455       \n",
      "                                                                 \n",
      "=================================================================\n",
      "Total params: 1,027,348\n",
      "Trainable params: 1,027,348\n",
      "Non-trainable params: 0\n",
      "_________________________________________________________________\n"
     ]
    }
   ],
   "source": [
    "model.summary()"
   ]
  },
  {
   "cell_type": "code",
   "execution_count": 8,
   "metadata": {
    "execution": {
     "iopub.execute_input": "2023-07-15T12:33:30.753997Z",
     "iopub.status.busy": "2023-07-15T12:33:30.753008Z",
     "iopub.status.idle": "2023-07-15T12:33:30.765858Z",
     "shell.execute_reply": "2023-07-15T12:33:30.764983Z"
    }
   },
   "outputs": [],
   "source": [
    "opt = keras.optimizers.SGD(learning_rate=0.045, momentum=0.0)\n",
    "model.compile(loss=\"sparse_categorical_crossentropy\", optimizer=opt, metrics=[\"accuracy\"])"
   ]
  },
  {
   "cell_type": "code",
   "execution_count": 9,
   "metadata": {
    "execution": {
     "iopub.execute_input": "2023-07-15T12:33:30.769855Z",
     "iopub.status.busy": "2023-07-15T12:33:30.768856Z",
     "iopub.status.idle": "2023-07-15T12:34:21.120454Z",
     "shell.execute_reply": "2023-07-15T12:34:21.119544Z"
    },
    "scrolled": false
   },
   "outputs": [
    {
     "name": "stdout",
     "output_type": "stream",
     "text": [
      "Epoch 1/20\n",
      "99/99 [==============================] - 3s 26ms/step - loss: 1.7239 - accuracy: 0.3663 - val_loss: 1.5113 - val_accuracy: 0.4644\n",
      "Epoch 2/20\n",
      "99/99 [==============================] - 3s 26ms/step - loss: 1.3296 - accuracy: 0.5369 - val_loss: 1.3252 - val_accuracy: 0.4815\n",
      "Epoch 3/20\n",
      "99/99 [==============================] - 3s 26ms/step - loss: 0.9855 - accuracy: 0.6743 - val_loss: 0.8403 - val_accuracy: 0.6781\n",
      "Epoch 4/20\n",
      "99/99 [==============================] - 2s 25ms/step - loss: 0.6555 - accuracy: 0.7805 - val_loss: 0.6037 - val_accuracy: 0.7920\n",
      "Epoch 5/20\n",
      "99/99 [==============================] - 3s 25ms/step - loss: 0.4224 - accuracy: 0.8671 - val_loss: 0.5760 - val_accuracy: 0.8091\n",
      "Epoch 6/20\n",
      "99/99 [==============================] - 2s 25ms/step - loss: 0.4565 - accuracy: 0.8693 - val_loss: 0.5046 - val_accuracy: 0.8462\n",
      "Epoch 7/20\n",
      "99/99 [==============================] - 3s 28ms/step - loss: 0.2461 - accuracy: 0.9305 - val_loss: 0.4815 - val_accuracy: 0.8661\n",
      "Epoch 8/20\n",
      "99/99 [==============================] - 3s 27ms/step - loss: 0.0763 - accuracy: 0.9778 - val_loss: 0.4340 - val_accuracy: 0.8889\n",
      "Epoch 9/20\n",
      "99/99 [==============================] - 3s 25ms/step - loss: 0.0237 - accuracy: 0.9949 - val_loss: 0.5354 - val_accuracy: 0.8746\n",
      "Epoch 10/20\n",
      "99/99 [==============================] - 2s 25ms/step - loss: 0.0075 - accuracy: 0.9987 - val_loss: 0.5636 - val_accuracy: 0.8946\n",
      "Epoch 11/20\n",
      "99/99 [==============================] - 2s 25ms/step - loss: 0.0044 - accuracy: 0.9994 - val_loss: 0.5919 - val_accuracy: 0.8860\n",
      "Epoch 12/20\n",
      "99/99 [==============================] - 2s 25ms/step - loss: 0.0031 - accuracy: 0.9997 - val_loss: 0.6105 - val_accuracy: 0.8832\n",
      "Epoch 13/20\n",
      "99/99 [==============================] - 2s 25ms/step - loss: 0.0024 - accuracy: 0.9997 - val_loss: 0.6148 - val_accuracy: 0.8832\n",
      "Epoch 14/20\n",
      "99/99 [==============================] - 2s 23ms/step - loss: 0.0019 - accuracy: 0.9997 - val_loss: 0.6317 - val_accuracy: 0.8832\n",
      "Epoch 15/20\n",
      "99/99 [==============================] - 3s 25ms/step - loss: 0.0016 - accuracy: 0.9997 - val_loss: 0.6424 - val_accuracy: 0.8832\n",
      "Epoch 16/20\n",
      "99/99 [==============================] - 2s 24ms/step - loss: 0.0013 - accuracy: 0.9997 - val_loss: 0.6517 - val_accuracy: 0.8832\n",
      "Epoch 17/20\n",
      "99/99 [==============================] - 2s 25ms/step - loss: 0.0011 - accuracy: 1.0000 - val_loss: 0.6681 - val_accuracy: 0.8832\n",
      "Epoch 18/20\n",
      "99/99 [==============================] - 2s 24ms/step - loss: 9.8531e-04 - accuracy: 1.0000 - val_loss: 0.6786 - val_accuracy: 0.8832\n",
      "Epoch 19/20\n",
      "99/99 [==============================] - 2s 25ms/step - loss: 8.5471e-04 - accuracy: 1.0000 - val_loss: 0.6859 - val_accuracy: 0.8803\n",
      "Epoch 20/20\n",
      "99/99 [==============================] - 2s 24ms/step - loss: 7.5838e-04 - accuracy: 1.0000 - val_loss: 0.6924 - val_accuracy: 0.8803\n"
     ]
    }
   ],
   "source": [
    "# earlyStop = keras.callbacks.EarlyStopping(monitor='loss', patience=2, mode=\"min\")\n",
    "\n",
    "history = model.fit(X_train, y_train, epochs=20, validation_data=(X_valid, y_valid), batch_size=32)"
   ]
  },
  {
   "cell_type": "code",
   "execution_count": 10,
   "metadata": {
    "execution": {
     "iopub.execute_input": "2023-07-15T12:34:21.122452Z",
     "iopub.status.busy": "2023-07-15T12:34:21.122452Z",
     "iopub.status.idle": "2023-07-15T12:34:21.135024Z",
     "shell.execute_reply": "2023-07-15T12:34:21.135024Z"
    }
   },
   "outputs": [],
   "source": [
    "# data = history.history\n",
    "# pd.DataFrame(data).plot(figsize=(8, 6))\n",
    "# plt.grid(True)\n",
    "# plt.gca().set_ylim(0, 2)\n",
    "# plt.show()"
   ]
  },
  {
   "cell_type": "code",
   "execution_count": 11,
   "metadata": {
    "execution": {
     "iopub.execute_input": "2023-07-15T12:34:21.138352Z",
     "iopub.status.busy": "2023-07-15T12:34:21.137413Z",
     "iopub.status.idle": "2023-07-15T12:34:21.970375Z",
     "shell.execute_reply": "2023-07-15T12:34:21.970375Z"
    }
   },
   "outputs": [
    {
     "name": "stderr",
     "output_type": "stream",
     "text": [
      "WARNING:absl:Found untraced functions such as _jit_compiled_convolution_op, _jit_compiled_convolution_op, _update_step_xla while saving (showing 3 of 3). These functions will not be directly callable after loading.\n"
     ]
    },
    {
     "name": "stdout",
     "output_type": "stream",
     "text": [
      "INFO:tensorflow:Assets written to: ../Saved Data/Model/assets\n"
     ]
    },
    {
     "name": "stderr",
     "output_type": "stream",
     "text": [
      "INFO:tensorflow:Assets written to: ../Saved Data/Model/assets\n"
     ]
    }
   ],
   "source": [
    "model.save(\"../Saved Data/Model/\")\n",
    "model.save(\"../Saved Data/Model Architecture/model.h5\")"
   ]
  }
 ],
 "metadata": {
  "kernelspec": {
   "display_name": "Python 3",
   "language": "python",
   "name": "python3"
  },
  "language_info": {
   "codemirror_mode": {
    "name": "ipython",
    "version": 3
   },
   "file_extension": ".py",
   "mimetype": "text/x-python",
   "name": "python",
   "nbconvert_exporter": "python",
   "pygments_lexer": "ipython3",
   "version": "3.8.6"
  },
  "vscode": {
   "interpreter": {
    "hash": "43b010d9f7d982b0242266748a4ec71b1a1d9ef54f57a230cfc8a9c34419b385"
   }
  }
 },
 "nbformat": 4,
 "nbformat_minor": 2
}
