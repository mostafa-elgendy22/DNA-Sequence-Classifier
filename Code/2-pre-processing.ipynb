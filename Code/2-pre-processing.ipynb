{
 "cells": [
  {
   "cell_type": "code",
   "execution_count": 1,
   "metadata": {},
   "outputs": [],
   "source": [
    "import json\n",
    "import numpy as np\n",
    "import pandas as pd\n",
    "from collections import Counter"
   ]
  },
  {
   "cell_type": "code",
   "execution_count": 2,
   "metadata": {},
   "outputs": [
    {
     "name": "stdout",
     "output_type": "stream",
     "text": [
      "5\n"
     ]
    }
   ],
   "source": [
    "# Pre-processing paramaters\n",
    "k = int(json.load(open('config.json'))['k'])\n",
    "dna_sequence_character_set = ['A', 'C', 'G', 'T']\n",
    "print(k)"
   ]
  },
  {
   "cell_type": "code",
   "execution_count": 3,
   "metadata": {},
   "outputs": [],
   "source": [
    "# The following function returns all the possible DNA subsequences of length k\n",
    "def find_all_dna_subsequences(set, k): \n",
    "    n = len(set)\n",
    "    arr = []\n",
    "    find_all_dna_subsequences_recursive(set, \"\", n, k, arr)\n",
    "    return np.asarray(arr)\n",
    " \n",
    "# This recursive function is a helper function for the above function\n",
    "def find_all_dna_subsequences_recursive(set, prefix, n, k, arr):\n",
    "    if (k == 0):\n",
    "        arr.append(prefix)\n",
    "        return\n",
    " \n",
    "    for i in range(n):\n",
    "        newPrefix = prefix + set[i]\n",
    "        find_all_dna_subsequences_recursive(set, newPrefix, n, k - 1, arr)"
   ]
  },
  {
   "cell_type": "code",
   "execution_count": 4,
   "metadata": {},
   "outputs": [],
   "source": [
    "# Read the human dataset\n",
    "dna_sequences = np.asarray(pd.read_table('../Datasets/human_dataset.txt')['sequence'].to_list())"
   ]
  },
  {
   "cell_type": "code",
   "execution_count": 5,
   "metadata": {},
   "outputs": [],
   "source": [
    "# Lambda function that extracts the k-mers from a single DNA sequence\n",
    "k_mer = lambda sequence, k: np.asarray([sequence[i: i + k] for i in range(len(sequence) - k + 1)])\n",
    "\n",
    "# Apply the function on all the elements of the DNA sequences array\n",
    "k_mers = np.asarray([k_mer(sequence, k) for sequence in dna_sequences], dtype=object)"
   ]
  },
  {
   "cell_type": "code",
   "execution_count": 6,
   "metadata": {},
   "outputs": [],
   "source": [
    "# Remove the k_mers that contain any character other than A, C, G, T like N\n",
    "remove_undefined_k_mers = lambda k_mers: np.asarray([k_mer for k_mer in k_mers if all([character in dna_sequence_character_set for character in k_mer])])\n",
    "\n",
    "# Testing the function\n",
    "assert len(remove_undefined_k_mers(['ACGT', 'NACG', 'AAAAN'])) == 1\n",
    "assert len(remove_undefined_k_mers(['ACGTN', 'NACG', 'AAAAN'])) == 0\n",
    "assert len(remove_undefined_k_mers(['ACGT', 'ACG', 'AAAA'])) == 3"
   ]
  },
  {
   "cell_type": "code",
   "execution_count": 7,
   "metadata": {},
   "outputs": [],
   "source": [
    "k_mers = np.asarray([remove_undefined_k_mers(k_mer) for k_mer in k_mers], dtype=object)"
   ]
  },
  {
   "cell_type": "code",
   "execution_count": 8,
   "metadata": {},
   "outputs": [],
   "source": [
    "# Lambda function that counts the number of times each k-mer appears in a single DNA sequence\n",
    "spectral_representation = lambda k_mers: pd.DataFrame.from_dict(Counter(k_mers), orient='index')\n",
    "\n",
    "dna_spectral_representations = np.asarray([spectral_representation(k_mer) for k_mer in k_mers], dtype=object)"
   ]
  },
  {
   "cell_type": "code",
   "execution_count": 9,
   "metadata": {},
   "outputs": [],
   "source": [
    "reference_dna_vector = find_all_dna_subsequences(dna_sequence_character_set, k)\n",
    "dna_vector = np.zeros((dna_sequences.shape[0], np.power(len(dna_sequence_character_set), k)), dtype=int)"
   ]
  },
  {
   "cell_type": "code",
   "execution_count": 10,
   "metadata": {},
   "outputs": [],
   "source": [
    "def get_dna_reperesentation_vector(dna_spectral_representation_subsequences, dna_spectral_representation_frequency):\n",
    "    dna_sequence_vector = np.zeros((1, np.power(len(dna_sequence_character_set), k)), dtype=int)\n",
    "    for i in range(len(dna_spectral_representation_subsequences)):\n",
    "        index = np.where(reference_dna_vector == dna_spectral_representation_subsequences[i])[0]\n",
    "        dna_sequence_vector[0][index] = dna_spectral_representation_frequency[i]\n",
    "    return dna_sequence_vector"
   ]
  },
  {
   "cell_type": "code",
   "execution_count": 11,
   "metadata": {},
   "outputs": [],
   "source": [
    "for i in range(dna_sequences.shape[0]):\n",
    "    dna_vector[i] = get_dna_reperesentation_vector(dna_spectral_representations[i].index.values, dna_spectral_representations[i][0].values)"
   ]
  },
  {
   "cell_type": "code",
   "execution_count": 12,
   "metadata": {},
   "outputs": [],
   "source": [
    "# Testing the pre-processing module\n",
    "for i in range(len(dna_sequences)):\n",
    "    assert np.sum(dna_vector[i]) == np.sum(dna_spectral_representations[i][0].values), f'{i} {np.sum(dna_vector[i])}, {np.sum(dna_spectral_representations[i][0].values)}'"
   ]
  },
  {
   "cell_type": "code",
   "execution_count": 13,
   "metadata": {},
   "outputs": [],
   "source": [
    "np.save('../Saved Data/dna_spectral_representation.npy', dna_vector)"
   ]
  }
 ],
 "metadata": {
  "kernelspec": {
   "display_name": "Python 3 (ipykernel)",
   "language": "python",
   "name": "python3"
  },
  "language_info": {
   "codemirror_mode": {
    "name": "ipython",
    "version": 3
   },
   "file_extension": ".py",
   "mimetype": "text/x-python",
   "name": "python",
   "nbconvert_exporter": "python",
   "pygments_lexer": "ipython3",
   "version": "3.9.10"
  },
  "vscode": {
   "interpreter": {
    "hash": "47b0946bdb42e5a8db21df9138f17b5cb1a6507cd769a113b48a94aa211b3a2e"
   }
  }
 },
 "nbformat": 4,
 "nbformat_minor": 2
}
