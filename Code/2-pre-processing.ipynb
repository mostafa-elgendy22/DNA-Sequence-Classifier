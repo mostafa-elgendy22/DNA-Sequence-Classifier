{
 "cells": [
  {
   "cell_type": "code",
   "execution_count": 1,
   "metadata": {},
   "outputs": [],
   "source": [
    "import json\n",
    "import numpy as np\n",
    "import pandas as pd\n",
    "from collections import Counter\n",
    "from sklearn.model_selection import train_test_split"
   ]
  },
  {
   "cell_type": "code",
   "execution_count": 2,
   "metadata": {},
   "outputs": [],
   "source": [
    "# Pre-processing paramaters\n",
    "k = int(json.load(open('config.json'))['k'])\n",
    "dna_sequence_character_set = ['A', 'C', 'G', 'T']"
   ]
  },
  {
   "cell_type": "code",
   "execution_count": 3,
   "metadata": {},
   "outputs": [],
   "source": [
    "# The following function returns all the possible DNA subsequences of length k\n",
    "def find_all_dna_subsequences(set, k): \n",
    "    n = len(set)\n",
    "    arr = []\n",
    "    find_all_dna_subsequences_recursive(set, \"\", n, k, arr)\n",
    "    return np.asarray(arr)\n",
    " \n",
    "# This recursive function is a helper function for the above function\n",
    "def find_all_dna_subsequences_recursive(set, prefix, n, k, arr):\n",
    "    if (k == 0):\n",
    "        arr.append(prefix)\n",
    "        return\n",
    " \n",
    "    for i in range(n):\n",
    "        newPrefix = prefix + set[i]\n",
    "        find_all_dna_subsequences_recursive(set, newPrefix, n, k - 1, arr)\n",
    "\n",
    "        \n",
    "reference_dna_vector = find_all_dna_subsequences(dna_sequence_character_set, k)"
   ]
  },
  {
   "cell_type": "code",
   "execution_count": 4,
   "metadata": {},
   "outputs": [],
   "source": [
    "# Read the human dataset\n",
    "num_classes = str(json.load(open('config.json'))['num_classes'])\n",
    "dataset_file_name = 'human_dataset_' + num_classes + '.txt'\n",
    "dna_sequences = np.asarray(pd.read_table('../Datasets/' + dataset_file_name)['sequence'].to_list())\n",
    "labels = pd.read_table('../Datasets/' + dataset_file_name)['class'].to_numpy()"
   ]
  },
  {
   "cell_type": "code",
   "execution_count": 5,
   "metadata": {},
   "outputs": [],
   "source": [
    "X_train, X_test, y_train, y_test = train_test_split(dna_sequences, labels, test_size=0.2, random_state=20)"
   ]
  },
  {
   "cell_type": "code",
   "execution_count": 6,
   "metadata": {},
   "outputs": [],
   "source": [
    "# Lambda function that extracts the k-mers from a single DNA sequence\n",
    "k_mer = lambda sequence, k: np.asarray([sequence[i: i + k] for i in range(len(sequence) - k + 1)])"
   ]
  },
  {
   "cell_type": "code",
   "execution_count": 7,
   "metadata": {},
   "outputs": [],
   "source": [
    "# Remove the k_mers that contain any character other than A, C, G, T like N\n",
    "remove_undefined_k_mers = lambda k_mers: np.asarray([k_mer for k_mer in k_mers if all([character in dna_sequence_character_set for character in k_mer])])\n",
    "\n",
    "# Testing the function\n",
    "assert len(remove_undefined_k_mers(['ACGT', 'NACG', 'AAAAN'])) == 1\n",
    "assert len(remove_undefined_k_mers(['ACGTN', 'NACG', 'AAAAN'])) == 0\n",
    "assert len(remove_undefined_k_mers(['ACGT', 'ACG', 'AAAA'])) == 3"
   ]
  },
  {
   "cell_type": "code",
   "execution_count": 8,
   "metadata": {},
   "outputs": [],
   "source": [
    "# Lambda function that counts the number of times each k-mer appears in a single DNA sequence\n",
    "spectral_representation = lambda k_mers: pd.DataFrame.from_dict(Counter(k_mers), orient='index')"
   ]
  },
  {
   "cell_type": "code",
   "execution_count": 9,
   "metadata": {},
   "outputs": [],
   "source": [
    "# Apply the function on all the elements of the DNA sequences array\n",
    "k_mers_train = np.asarray([k_mer(sequence, k) for sequence in X_train], dtype=object)\n",
    "\n",
    "k_mers_train = np.asarray([remove_undefined_k_mers(k_mer) for k_mer in k_mers_train], dtype=object)\n",
    "\n",
    "dna_spectral_representations_train = np.asarray([spectral_representation(k_mer) for k_mer in k_mers_train], dtype=object)\n",
    "\n",
    "#====================================================================================================\n",
    "\n",
    "k_mers_test = np.asarray([k_mer(sequence, k) for sequence in X_test], dtype=object)\n",
    "\n",
    "k_mers_test = np.asarray([remove_undefined_k_mers(k_mer) for k_mer in k_mers_test], dtype=object)\n",
    "\n",
    "dna_spectral_representations_test = np.asarray([spectral_representation(k_mer) for k_mer in k_mers_test], dtype=object)"
   ]
  },
  {
   "cell_type": "code",
   "execution_count": 10,
   "metadata": {},
   "outputs": [],
   "source": [
    "dna_vector_train = np.zeros((X_train.shape[0], np.power(len(dna_sequence_character_set), k)), dtype=int)\n",
    "dna_vector_test = np.zeros((X_test.shape[0], np.power(len(dna_sequence_character_set), k)), dtype=int)"
   ]
  },
  {
   "cell_type": "code",
   "execution_count": 11,
   "metadata": {},
   "outputs": [],
   "source": [
    "def get_dna_reperesentation_vector(dna_spectral_representation_subsequences, dna_spectral_representation_frequency):\n",
    "    dna_sequence_vector = np.zeros((1, np.power(len(dna_sequence_character_set), k)), dtype=int)\n",
    "    for i in range(len(dna_spectral_representation_subsequences)):\n",
    "        index = np.where(reference_dna_vector == dna_spectral_representation_subsequences[i])[0]\n",
    "        dna_sequence_vector[0][index] = dna_spectral_representation_frequency[i]\n",
    "    return dna_sequence_vector"
   ]
  },
  {
   "cell_type": "code",
   "execution_count": 12,
   "metadata": {},
   "outputs": [],
   "source": [
    "for i in range(X_train.shape[0]):\n",
    "    dna_vector_train[i] = get_dna_reperesentation_vector(dna_spectral_representations_train[i].index.values, dna_spectral_representations_train[i][0].values)\n",
    "\n",
    "for i in range(X_test.shape[0]):\n",
    "    dna_vector_test[i] = get_dna_reperesentation_vector(dna_spectral_representations_test[i].index.values, dna_spectral_representations_test[i][0].values)"
   ]
  },
  {
   "cell_type": "code",
   "execution_count": 13,
   "metadata": {},
   "outputs": [],
   "source": [
    "# Testing the pre-processing module\n",
    "for i in range(len(X_train)):\n",
    "    assert np.sum(dna_vector_train[i]) == np.sum(dna_spectral_representations_train[i][0].values), f'{i} {np.sum(dna_vector_train[i])}, {np.sum(dna_spectral_representations_train[i][0].values)}'"
   ]
  },
  {
   "cell_type": "code",
   "execution_count": 14,
   "metadata": {},
   "outputs": [],
   "source": [
    "np.save('../Saved Data/Test Set/X_test.npy', X_test)\n",
    "np.save('../Saved Data/Test Set/y_test.npy', y_test)\n",
    "np.save('../Saved Data/Test Set/X_test_pre-processed.npy', dna_vector_test)\n",
    "np.save('../Saved Data/Training Set/dna_spectral_representation.npy', dna_vector_train)\n",
    "np.save('../Saved Data/Training Set/labels.npy', y_train)"
   ]
  }
 ],
 "metadata": {
  "kernelspec": {
   "display_name": "Python 3 (ipykernel)",
   "language": "python",
   "name": "python3"
  },
  "language_info": {
   "codemirror_mode": {
    "name": "ipython",
    "version": 3
   },
   "file_extension": ".py",
   "mimetype": "text/x-python",
   "name": "python",
   "nbconvert_exporter": "python",
   "pygments_lexer": "ipython3",
   "version": "3.7.4"
  },
  "vscode": {
   "interpreter": {
    "hash": "47b0946bdb42e5a8db21df9138f17b5cb1a6507cd769a113b48a94aa211b3a2e"
   }
  }
 },
 "nbformat": 4,
 "nbformat_minor": 2
}
