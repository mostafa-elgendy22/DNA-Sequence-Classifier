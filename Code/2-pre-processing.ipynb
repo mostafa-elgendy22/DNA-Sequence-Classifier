{
 "cells": [
  {
   "cell_type": "code",
   "execution_count": 1,
   "metadata": {
    "execution": {
     "iopub.execute_input": "2023-07-15T12:32:55.491663Z",
     "iopub.status.busy": "2023-07-15T12:32:55.491663Z",
     "iopub.status.idle": "2023-07-15T12:32:58.642943Z",
     "shell.execute_reply": "2023-07-15T12:32:58.642943Z"
    }
   },
   "outputs": [],
   "source": [
    "import numpy as np\n",
    "import pandas as pd\n",
    "from collections import Counter\n",
    "from sklearn.model_selection import train_test_split"
   ]
  },
  {
   "cell_type": "code",
   "execution_count": 2,
   "metadata": {
    "execution": {
     "iopub.execute_input": "2023-07-15T12:32:58.646034Z",
     "iopub.status.busy": "2023-07-15T12:32:58.646034Z",
     "iopub.status.idle": "2023-07-15T12:32:58.659519Z",
     "shell.execute_reply": "2023-07-15T12:32:58.659142Z"
    }
   },
   "outputs": [],
   "source": [
    "# Pre-processing paramaters\n",
    "k = 5\n",
    "dna_sequence_character_set = ['A', 'C', 'G', 'T']"
   ]
  },
  {
   "cell_type": "code",
   "execution_count": 3,
   "metadata": {
    "execution": {
     "iopub.execute_input": "2023-07-15T12:32:58.661525Z",
     "iopub.status.busy": "2023-07-15T12:32:58.661525Z",
     "iopub.status.idle": "2023-07-15T12:32:58.675017Z",
     "shell.execute_reply": "2023-07-15T12:32:58.675017Z"
    }
   },
   "outputs": [],
   "source": [
    "# The following function returns all the possible DNA subsequences of length k\n",
    "def find_all_dna_subsequences(set, k): \n",
    "    n = len(set)\n",
    "    arr = []\n",
    "    find_all_dna_subsequences_recursive(set, \"\", n, k, arr)\n",
    "    return np.asarray(arr)\n",
    " \n",
    "# This recursive function is a helper function for the above function\n",
    "def find_all_dna_subsequences_recursive(set, prefix, n, k, arr):\n",
    "    if (k == 0):\n",
    "        arr.append(prefix)\n",
    "        return\n",
    " \n",
    "    for i in range(n):\n",
    "        newPrefix = prefix + set[i]\n",
    "        find_all_dna_subsequences_recursive(set, newPrefix, n, k - 1, arr)\n",
    "\n",
    "        \n",
    "reference_dna_vector = find_all_dna_subsequences(dna_sequence_character_set, k)"
   ]
  },
  {
   "cell_type": "code",
   "execution_count": 4,
   "metadata": {
    "execution": {
     "iopub.execute_input": "2023-07-15T12:32:58.678049Z",
     "iopub.status.busy": "2023-07-15T12:32:58.678049Z",
     "iopub.status.idle": "2023-07-15T12:32:58.838021Z",
     "shell.execute_reply": "2023-07-15T12:32:58.837019Z"
    }
   },
   "outputs": [],
   "source": [
    "# Read the human dataset\n",
    "dataset_file_name = 'human_dataset.txt'\n",
    "dna_sequences = np.asarray(pd.read_table('../Datasets/' + dataset_file_name)['sequence'].to_list())\n",
    "labels = pd.read_table('../Datasets/' + dataset_file_name)['class'].to_numpy()"
   ]
  },
  {
   "cell_type": "code",
   "execution_count": 5,
   "metadata": {
    "execution": {
     "iopub.execute_input": "2023-07-15T12:32:58.840101Z",
     "iopub.status.busy": "2023-07-15T12:32:58.840101Z",
     "iopub.status.idle": "2023-07-15T12:32:58.917117Z",
     "shell.execute_reply": "2023-07-15T12:32:58.916248Z"
    }
   },
   "outputs": [],
   "source": [
    "X_train, X_test, y_train, y_test = train_test_split(dna_sequences, labels, test_size=0.2, random_state=20)"
   ]
  },
  {
   "cell_type": "code",
   "execution_count": 6,
   "metadata": {
    "execution": {
     "iopub.execute_input": "2023-07-15T12:32:58.920118Z",
     "iopub.status.busy": "2023-07-15T12:32:58.919187Z",
     "iopub.status.idle": "2023-07-15T12:32:58.934267Z",
     "shell.execute_reply": "2023-07-15T12:32:58.932390Z"
    }
   },
   "outputs": [],
   "source": [
    "# Lambda function that extracts the k-mers from a single DNA sequence\n",
    "k_mer = lambda sequence, k: np.asarray([sequence[i: i + k] for i in range(len(sequence) - k + 1)])"
   ]
  },
  {
   "cell_type": "code",
   "execution_count": 7,
   "metadata": {
    "execution": {
     "iopub.execute_input": "2023-07-15T12:32:58.936548Z",
     "iopub.status.busy": "2023-07-15T12:32:58.936548Z",
     "iopub.status.idle": "2023-07-15T12:32:58.948953Z",
     "shell.execute_reply": "2023-07-15T12:32:58.948088Z"
    }
   },
   "outputs": [],
   "source": [
    "# Remove the k_mers that contain any character other than A, C, G, T like N\n",
    "remove_undefined_k_mers = lambda k_mers: np.asarray([k_mer for k_mer in k_mers if all([character in dna_sequence_character_set for character in k_mer])])\n",
    "\n",
    "# Testing the function\n",
    "assert len(remove_undefined_k_mers(['ACGT', 'NACG', 'AAAAN'])) == 1\n",
    "assert len(remove_undefined_k_mers(['ACGTN', 'NACG', 'AAAAN'])) == 0\n",
    "assert len(remove_undefined_k_mers(['ACGT', 'ACG', 'AAAA'])) == 3"
   ]
  },
  {
   "cell_type": "code",
   "execution_count": 8,
   "metadata": {
    "execution": {
     "iopub.execute_input": "2023-07-15T12:32:58.950951Z",
     "iopub.status.busy": "2023-07-15T12:32:58.950951Z",
     "iopub.status.idle": "2023-07-15T12:32:58.964786Z",
     "shell.execute_reply": "2023-07-15T12:32:58.963678Z"
    }
   },
   "outputs": [],
   "source": [
    "# Lambda function that counts the number of times each k-mer appears in a single DNA sequence\n",
    "spectral_representation = lambda k_mers: pd.DataFrame.from_dict(Counter(k_mers), orient='index')"
   ]
  },
  {
   "cell_type": "code",
   "execution_count": 9,
   "metadata": {
    "execution": {
     "iopub.execute_input": "2023-07-15T12:32:58.966873Z",
     "iopub.status.busy": "2023-07-15T12:32:58.966873Z",
     "iopub.status.idle": "2023-07-15T12:33:08.608391Z",
     "shell.execute_reply": "2023-07-15T12:33:08.608391Z"
    }
   },
   "outputs": [],
   "source": [
    "# Apply the function on all the elements of the DNA sequences array\n",
    "k_mers_train = np.asarray([k_mer(sequence, k) for sequence in X_train], dtype=object)\n",
    "\n",
    "k_mers_train = np.asarray([remove_undefined_k_mers(k_mer) for k_mer in k_mers_train], dtype=object)\n",
    "\n",
    "dna_spectral_representations_train = np.asarray([spectral_representation(k_mer) for k_mer in k_mers_train], dtype=object)\n",
    "\n",
    "#====================================================================================================\n",
    "\n",
    "k_mers_test = np.asarray([k_mer(sequence, k) for sequence in X_test], dtype=object)\n",
    "\n",
    "k_mers_test = np.asarray([remove_undefined_k_mers(k_mer) for k_mer in k_mers_test], dtype=object)\n",
    "\n",
    "dna_spectral_representations_test = np.asarray([spectral_representation(k_mer) for k_mer in k_mers_test], dtype=object)"
   ]
  },
  {
   "cell_type": "code",
   "execution_count": 10,
   "metadata": {
    "execution": {
     "iopub.execute_input": "2023-07-15T12:33:08.608391Z",
     "iopub.status.busy": "2023-07-15T12:33:08.608391Z",
     "iopub.status.idle": "2023-07-15T12:33:08.624013Z",
     "shell.execute_reply": "2023-07-15T12:33:08.624013Z"
    }
   },
   "outputs": [],
   "source": [
    "dna_vector_train = np.zeros((X_train.shape[0], np.power(len(dna_sequence_character_set), k)), dtype=int)\n",
    "dna_vector_test = np.zeros((X_test.shape[0], np.power(len(dna_sequence_character_set), k)), dtype=int)"
   ]
  },
  {
   "cell_type": "code",
   "execution_count": 11,
   "metadata": {
    "execution": {
     "iopub.execute_input": "2023-07-15T12:33:08.624013Z",
     "iopub.status.busy": "2023-07-15T12:33:08.624013Z",
     "iopub.status.idle": "2023-07-15T12:33:08.639638Z",
     "shell.execute_reply": "2023-07-15T12:33:08.639638Z"
    }
   },
   "outputs": [],
   "source": [
    "def get_dna_reperesentation_vector(dna_spectral_representation_subsequences, dna_spectral_representation_frequency):\n",
    "    dna_sequence_vector = np.zeros((1, np.power(len(dna_sequence_character_set), k)), dtype=int)\n",
    "    for i in range(len(dna_spectral_representation_subsequences)):\n",
    "        index = np.where(reference_dna_vector == dna_spectral_representation_subsequences[i])[0]\n",
    "        dna_sequence_vector[0][index] = dna_spectral_representation_frequency[i]\n",
    "    return dna_sequence_vector"
   ]
  },
  {
   "cell_type": "code",
   "execution_count": 12,
   "metadata": {
    "execution": {
     "iopub.execute_input": "2023-07-15T12:33:08.639638Z",
     "iopub.status.busy": "2023-07-15T12:33:08.639638Z",
     "iopub.status.idle": "2023-07-15T12:33:20.089588Z",
     "shell.execute_reply": "2023-07-15T12:33:20.088590Z"
    }
   },
   "outputs": [],
   "source": [
    "for i in range(X_train.shape[0]):\n",
    "    dna_vector_train[i] = get_dna_reperesentation_vector(dna_spectral_representations_train[i].index.values, dna_spectral_representations_train[i][0].values)\n",
    "\n",
    "for i in range(X_test.shape[0]):\n",
    "    dna_vector_test[i] = get_dna_reperesentation_vector(dna_spectral_representations_test[i].index.values, dna_spectral_representations_test[i][0].values)"
   ]
  },
  {
   "cell_type": "code",
   "execution_count": 13,
   "metadata": {
    "execution": {
     "iopub.execute_input": "2023-07-15T12:33:20.091606Z",
     "iopub.status.busy": "2023-07-15T12:33:20.091606Z",
     "iopub.status.idle": "2023-07-15T12:33:20.136640Z",
     "shell.execute_reply": "2023-07-15T12:33:20.135750Z"
    }
   },
   "outputs": [],
   "source": [
    "# Testing the pre-processing module\n",
    "for i in range(len(X_train)):\n",
    "    assert np.sum(dna_vector_train[i]) == np.sum(dna_spectral_representations_train[i][0].values), f'{i} {np.sum(dna_vector_train[i])}, {np.sum(dna_spectral_representations_train[i][0].values)}'"
   ]
  },
  {
   "cell_type": "code",
   "execution_count": 14,
   "metadata": {
    "execution": {
     "iopub.execute_input": "2023-07-15T12:33:20.139640Z",
     "iopub.status.busy": "2023-07-15T12:33:20.139640Z",
     "iopub.status.idle": "2023-07-15T12:33:20.215938Z",
     "shell.execute_reply": "2023-07-15T12:33:20.215938Z"
    }
   },
   "outputs": [],
   "source": [
    "np.save('../Saved Data/Test Set/X_test.npy', X_test)\n",
    "np.save('../Saved Data/Test Set/y_test.npy', y_test)\n",
    "np.save('../Saved Data/Test Set/X_test_pre-processed.npy', dna_vector_test)\n",
    "np.save('../Saved Data/Training Set/dna_spectral_representation.npy', dna_vector_train)\n",
    "np.save('../Saved Data/Training Set/labels.npy', y_train)"
   ]
  }
 ],
 "metadata": {
  "kernelspec": {
   "display_name": "Python 3",
   "language": "python",
   "name": "python3"
  },
  "language_info": {
   "codemirror_mode": {
    "name": "ipython",
    "version": 3
   },
   "file_extension": ".py",
   "mimetype": "text/x-python",
   "name": "python",
   "nbconvert_exporter": "python",
   "pygments_lexer": "ipython3",
   "version": "3.8.6"
  },
  "vscode": {
   "interpreter": {
    "hash": "43b010d9f7d982b0242266748a4ec71b1a1d9ef54f57a230cfc8a9c34419b385"
   }
  }
 },
 "nbformat": 4,
 "nbformat_minor": 2
}
