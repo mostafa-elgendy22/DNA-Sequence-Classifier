{
 "cells": [
  {
   "cell_type": "code",
   "execution_count": 1,
   "metadata": {},
   "outputs": [],
   "source": [
    "import pandas as pd\n",
    "import seaborn as sns\n",
    "import matplotlib.pyplot as plt\n",
    "import plotly.express as px"
   ]
  },
  {
   "cell_type": "code",
   "execution_count": 2,
   "metadata": {},
   "outputs": [
    {
     "name": "stdout",
     "output_type": "stream",
     "text": [
      "Human dataset has a total of 4380 patterns\n"
     ]
    }
   ],
   "source": [
    "dataset_file_name = 'human_dataset.txt'\n",
    "human_data = pd.read_table('../Datasets/' + dataset_file_name)\n",
    "print(f\"Human dataset has a total of {human_data.shape[0]} patterns\")"
   ]
  },
  {
   "cell_type": "code",
   "execution_count": 3,
   "metadata": {},
   "outputs": [],
   "source": [
    "class_names = [\n",
    "    'G Protien Coupled Receptors',\n",
    "    'Tyrosine Kinase',\n",
    "    'Tyrosine Phosphatase',\n",
    "    'Synthetase',\n",
    "    'Synthase',\n",
    "    'Ion Channel',\n",
    "    'Transcription Factor'\n",
    "]"
   ]
  },
  {
   "cell_type": "code",
   "execution_count": 4,
   "metadata": {},
   "outputs": [
    {
     "data": {
      "text/html": [
       "<style type=\"text/css\">\n",
       "#T_b4ca0 th {\n",
       "  text-align: center;\n",
       "}\n",
       "#T_b4ca0_row0_col0, #T_b4ca0_row0_col1, #T_b4ca0_row0_col2, #T_b4ca0_row1_col0, #T_b4ca0_row1_col1, #T_b4ca0_row1_col2, #T_b4ca0_row2_col0, #T_b4ca0_row2_col1, #T_b4ca0_row2_col2, #T_b4ca0_row3_col0, #T_b4ca0_row3_col1, #T_b4ca0_row3_col2, #T_b4ca0_row4_col0, #T_b4ca0_row4_col1, #T_b4ca0_row4_col2, #T_b4ca0_row5_col0, #T_b4ca0_row5_col1, #T_b4ca0_row5_col2, #T_b4ca0_row6_col0, #T_b4ca0_row6_col1, #T_b4ca0_row6_col2 {\n",
       "  text-align: center;\n",
       "}\n",
       "</style>\n",
       "<table id=\"T_b4ca0\">\n",
       "  <thead>\n",
       "    <tr>\n",
       "      <th class=\"blank level0\" >&nbsp;</th>\n",
       "      <th id=\"T_b4ca0_level0_col0\" class=\"col_heading level0 col0\" >class_label</th>\n",
       "      <th id=\"T_b4ca0_level0_col1\" class=\"col_heading level0 col1\" >class_name</th>\n",
       "      <th id=\"T_b4ca0_level0_col2\" class=\"col_heading level0 col2\" >count</th>\n",
       "    </tr>\n",
       "  </thead>\n",
       "  <tbody>\n",
       "    <tr>\n",
       "      <th id=\"T_b4ca0_level0_row0\" class=\"row_heading level0 row0\" >0</th>\n",
       "      <td id=\"T_b4ca0_row0_col0\" class=\"data row0 col0\" >0</td>\n",
       "      <td id=\"T_b4ca0_row0_col1\" class=\"data row0 col1\" >G Protien Coupled Receptors</td>\n",
       "      <td id=\"T_b4ca0_row0_col2\" class=\"data row0 col2\" >531</td>\n",
       "    </tr>\n",
       "    <tr>\n",
       "      <th id=\"T_b4ca0_level0_row1\" class=\"row_heading level0 row1\" >1</th>\n",
       "      <td id=\"T_b4ca0_row1_col0\" class=\"data row1 col0\" >1</td>\n",
       "      <td id=\"T_b4ca0_row1_col1\" class=\"data row1 col1\" >Tyrosine Kinase</td>\n",
       "      <td id=\"T_b4ca0_row1_col2\" class=\"data row1 col2\" >534</td>\n",
       "    </tr>\n",
       "    <tr>\n",
       "      <th id=\"T_b4ca0_level0_row2\" class=\"row_heading level0 row2\" >2</th>\n",
       "      <td id=\"T_b4ca0_row2_col0\" class=\"data row2 col0\" >2</td>\n",
       "      <td id=\"T_b4ca0_row2_col1\" class=\"data row2 col1\" >Tyrosine Phosphatase</td>\n",
       "      <td id=\"T_b4ca0_row2_col2\" class=\"data row2 col2\" >349</td>\n",
       "    </tr>\n",
       "    <tr>\n",
       "      <th id=\"T_b4ca0_level0_row3\" class=\"row_heading level0 row3\" >3</th>\n",
       "      <td id=\"T_b4ca0_row3_col0\" class=\"data row3 col0\" >3</td>\n",
       "      <td id=\"T_b4ca0_row3_col1\" class=\"data row3 col1\" >Synthetase</td>\n",
       "      <td id=\"T_b4ca0_row3_col2\" class=\"data row3 col2\" >672</td>\n",
       "    </tr>\n",
       "    <tr>\n",
       "      <th id=\"T_b4ca0_level0_row4\" class=\"row_heading level0 row4\" >4</th>\n",
       "      <td id=\"T_b4ca0_row4_col0\" class=\"data row4 col0\" >4</td>\n",
       "      <td id=\"T_b4ca0_row4_col1\" class=\"data row4 col1\" >Synthase</td>\n",
       "      <td id=\"T_b4ca0_row4_col2\" class=\"data row4 col2\" >711</td>\n",
       "    </tr>\n",
       "    <tr>\n",
       "      <th id=\"T_b4ca0_level0_row5\" class=\"row_heading level0 row5\" >5</th>\n",
       "      <td id=\"T_b4ca0_row5_col0\" class=\"data row5 col0\" >5</td>\n",
       "      <td id=\"T_b4ca0_row5_col1\" class=\"data row5 col1\" >Ion Channel</td>\n",
       "      <td id=\"T_b4ca0_row5_col2\" class=\"data row5 col2\" >240</td>\n",
       "    </tr>\n",
       "    <tr>\n",
       "      <th id=\"T_b4ca0_level0_row6\" class=\"row_heading level0 row6\" >6</th>\n",
       "      <td id=\"T_b4ca0_row6_col0\" class=\"data row6 col0\" >6</td>\n",
       "      <td id=\"T_b4ca0_row6_col1\" class=\"data row6 col1\" >Transcription Factor</td>\n",
       "      <td id=\"T_b4ca0_row6_col2\" class=\"data row6 col2\" >1343</td>\n",
       "    </tr>\n",
       "  </tbody>\n",
       "</table>\n"
      ],
      "text/plain": [
       "<pandas.io.formats.style.Styler at 0x1935fb84490>"
      ]
     },
     "execution_count": 4,
     "metadata": {},
     "output_type": "execute_result"
    }
   ],
   "source": [
    "df = human_data.groupby('class').count().reset_index()\n",
    "df['class_name'] = class_names\n",
    "\n",
    "df.rename(columns={'class': 'class_label', 'sequence': 'count'}, inplace=True)\n",
    "df = df.reindex(columns=['class_label', 'class_name', 'count'])\n",
    "df = df.style.set_properties(**{'text-align': 'center'})\n",
    "df = df.set_table_styles([dict(selector = 'th', props=[('text-align', 'center')])])\n",
    "df"
   ]
  },
  {
   "cell_type": "code",
   "execution_count": 5,
   "metadata": {},
   "outputs": [],
   "source": [
    "df = human_data\n",
    "df.rename(columns={'class': 'class_label'}, inplace=True)\n",
    "# use class_names to map class_label to class_name\n",
    "df['class_name'] = df['class_label'].map(lambda x: class_names[x])"
   ]
  },
  {
   "cell_type": "code",
   "execution_count": 6,
   "metadata": {},
   "outputs": [],
   "source": [
    "def countPlot(data=None, x=None, y=None, palette='bright', height=15, title=' ', subtitle=' ', description=' '):\n",
    "    sns.set(style = 'whitegrid', rc = {'figure.figsize': (20,height)})\n",
    "    g = sns.countplot(data=data, y=y, x=x, palette=palette)\n",
    "    g.set_ylabel(' \\n\\n\\n')\n",
    "    g.set_xlabel(' \\n\\n\\n\\n\\n')\n",
    "    g.set_title(f'\\n\\n\\n\\n{title}\\n\\n'.upper(), loc = 'left', fontdict = dict(fontsize = 15, fontweight = 'bold'))\n",
    "    g.set_yticklabels(\n",
    "        [tick_label.get_text().title() for tick_label in g.get_yticklabels()],\n",
    "        fontdict = dict(\n",
    "            fontsize = 12.5,\n",
    "            fontweight = 'medium'))\n",
    "    \n",
    "    plt.text(s = f'{description}',\n",
    "             alpha = 0.5,\n",
    "             x = 0,\n",
    "             y = -.18,\n",
    "             verticalalignment = 'baseline',\n",
    "             horizontalalignment = 'left',\n",
    "             transform = g.transAxes)\n",
    "    \n",
    "    g.bar_label(container = g.containers[0], padding = 10,)\n",
    "    plt.text(s = ' ', x = 1.08, y = 1, transform = g.transAxes)\n",
    "    sns.despine()\n",
    "    return g\n",
    "\n",
    "def piePlot(data=None, value='Percentage', name='Class', title=' ', subtitle=' ', description=' '):\n",
    "    data_pie = pd.DataFrame(data.value_counts() / data.shape[0]*100).reset_index()\n",
    "    data_pie.columns = [name, value]\n",
    "    fig = px.pie(data_pie, values=value, names=name, title=title)\n",
    "    fig.update_layout(title=title, title_x=0.48)\n",
    "    fig.show()"
   ]
  },
  {
   "cell_type": "code",
   "execution_count": 7,
   "metadata": {},
   "outputs": [
    {
     "data": {
      "application/vnd.plotly.v1+json": {
       "config": {
        "plotlyServerURL": "https://plot.ly"
       },
       "data": [
        {
         "domain": {
          "x": [
           0,
           1
          ],
          "y": [
           0,
           1
          ]
         },
         "hovertemplate": "Class=%{label}<br>Percentage=%{value}<extra></extra>",
         "labels": [
          "Transcription Factor",
          "Synthase",
          "Synthetase",
          "Tyrosine Kinase",
          "G Protien Coupled Receptors",
          "Tyrosine Phosphatase",
          "Ion Channel"
         ],
         "legendgroup": "",
         "name": "",
         "showlegend": true,
         "type": "pie",
         "values": [
          30.662100456621005,
          16.232876712328768,
          15.342465753424658,
          12.191780821917808,
          12.123287671232877,
          7.968036529680365,
          5.47945205479452
         ]
        }
       ],
       "layout": {
        "legend": {
         "tracegroupgap": 0
        },
        "template": {
         "data": {
          "bar": [
           {
            "error_x": {
             "color": "#2a3f5f"
            },
            "error_y": {
             "color": "#2a3f5f"
            },
            "marker": {
             "line": {
              "color": "#E5ECF6",
              "width": 0.5
             },
             "pattern": {
              "fillmode": "overlay",
              "size": 10,
              "solidity": 0.2
             }
            },
            "type": "bar"
           }
          ],
          "barpolar": [
           {
            "marker": {
             "line": {
              "color": "#E5ECF6",
              "width": 0.5
             },
             "pattern": {
              "fillmode": "overlay",
              "size": 10,
              "solidity": 0.2
             }
            },
            "type": "barpolar"
           }
          ],
          "carpet": [
           {
            "aaxis": {
             "endlinecolor": "#2a3f5f",
             "gridcolor": "white",
             "linecolor": "white",
             "minorgridcolor": "white",
             "startlinecolor": "#2a3f5f"
            },
            "baxis": {
             "endlinecolor": "#2a3f5f",
             "gridcolor": "white",
             "linecolor": "white",
             "minorgridcolor": "white",
             "startlinecolor": "#2a3f5f"
            },
            "type": "carpet"
           }
          ],
          "choropleth": [
           {
            "colorbar": {
             "outlinewidth": 0,
             "ticks": ""
            },
            "type": "choropleth"
           }
          ],
          "contour": [
           {
            "colorbar": {
             "outlinewidth": 0,
             "ticks": ""
            },
            "colorscale": [
             [
              0,
              "#0d0887"
             ],
             [
              0.1111111111111111,
              "#46039f"
             ],
             [
              0.2222222222222222,
              "#7201a8"
             ],
             [
              0.3333333333333333,
              "#9c179e"
             ],
             [
              0.4444444444444444,
              "#bd3786"
             ],
             [
              0.5555555555555556,
              "#d8576b"
             ],
             [
              0.6666666666666666,
              "#ed7953"
             ],
             [
              0.7777777777777778,
              "#fb9f3a"
             ],
             [
              0.8888888888888888,
              "#fdca26"
             ],
             [
              1,
              "#f0f921"
             ]
            ],
            "type": "contour"
           }
          ],
          "contourcarpet": [
           {
            "colorbar": {
             "outlinewidth": 0,
             "ticks": ""
            },
            "type": "contourcarpet"
           }
          ],
          "heatmap": [
           {
            "colorbar": {
             "outlinewidth": 0,
             "ticks": ""
            },
            "colorscale": [
             [
              0,
              "#0d0887"
             ],
             [
              0.1111111111111111,
              "#46039f"
             ],
             [
              0.2222222222222222,
              "#7201a8"
             ],
             [
              0.3333333333333333,
              "#9c179e"
             ],
             [
              0.4444444444444444,
              "#bd3786"
             ],
             [
              0.5555555555555556,
              "#d8576b"
             ],
             [
              0.6666666666666666,
              "#ed7953"
             ],
             [
              0.7777777777777778,
              "#fb9f3a"
             ],
             [
              0.8888888888888888,
              "#fdca26"
             ],
             [
              1,
              "#f0f921"
             ]
            ],
            "type": "heatmap"
           }
          ],
          "heatmapgl": [
           {
            "colorbar": {
             "outlinewidth": 0,
             "ticks": ""
            },
            "colorscale": [
             [
              0,
              "#0d0887"
             ],
             [
              0.1111111111111111,
              "#46039f"
             ],
             [
              0.2222222222222222,
              "#7201a8"
             ],
             [
              0.3333333333333333,
              "#9c179e"
             ],
             [
              0.4444444444444444,
              "#bd3786"
             ],
             [
              0.5555555555555556,
              "#d8576b"
             ],
             [
              0.6666666666666666,
              "#ed7953"
             ],
             [
              0.7777777777777778,
              "#fb9f3a"
             ],
             [
              0.8888888888888888,
              "#fdca26"
             ],
             [
              1,
              "#f0f921"
             ]
            ],
            "type": "heatmapgl"
           }
          ],
          "histogram": [
           {
            "marker": {
             "pattern": {
              "fillmode": "overlay",
              "size": 10,
              "solidity": 0.2
             }
            },
            "type": "histogram"
           }
          ],
          "histogram2d": [
           {
            "colorbar": {
             "outlinewidth": 0,
             "ticks": ""
            },
            "colorscale": [
             [
              0,
              "#0d0887"
             ],
             [
              0.1111111111111111,
              "#46039f"
             ],
             [
              0.2222222222222222,
              "#7201a8"
             ],
             [
              0.3333333333333333,
              "#9c179e"
             ],
             [
              0.4444444444444444,
              "#bd3786"
             ],
             [
              0.5555555555555556,
              "#d8576b"
             ],
             [
              0.6666666666666666,
              "#ed7953"
             ],
             [
              0.7777777777777778,
              "#fb9f3a"
             ],
             [
              0.8888888888888888,
              "#fdca26"
             ],
             [
              1,
              "#f0f921"
             ]
            ],
            "type": "histogram2d"
           }
          ],
          "histogram2dcontour": [
           {
            "colorbar": {
             "outlinewidth": 0,
             "ticks": ""
            },
            "colorscale": [
             [
              0,
              "#0d0887"
             ],
             [
              0.1111111111111111,
              "#46039f"
             ],
             [
              0.2222222222222222,
              "#7201a8"
             ],
             [
              0.3333333333333333,
              "#9c179e"
             ],
             [
              0.4444444444444444,
              "#bd3786"
             ],
             [
              0.5555555555555556,
              "#d8576b"
             ],
             [
              0.6666666666666666,
              "#ed7953"
             ],
             [
              0.7777777777777778,
              "#fb9f3a"
             ],
             [
              0.8888888888888888,
              "#fdca26"
             ],
             [
              1,
              "#f0f921"
             ]
            ],
            "type": "histogram2dcontour"
           }
          ],
          "mesh3d": [
           {
            "colorbar": {
             "outlinewidth": 0,
             "ticks": ""
            },
            "type": "mesh3d"
           }
          ],
          "parcoords": [
           {
            "line": {
             "colorbar": {
              "outlinewidth": 0,
              "ticks": ""
             }
            },
            "type": "parcoords"
           }
          ],
          "pie": [
           {
            "automargin": true,
            "type": "pie"
           }
          ],
          "scatter": [
           {
            "fillpattern": {
             "fillmode": "overlay",
             "size": 10,
             "solidity": 0.2
            },
            "type": "scatter"
           }
          ],
          "scatter3d": [
           {
            "line": {
             "colorbar": {
              "outlinewidth": 0,
              "ticks": ""
             }
            },
            "marker": {
             "colorbar": {
              "outlinewidth": 0,
              "ticks": ""
             }
            },
            "type": "scatter3d"
           }
          ],
          "scattercarpet": [
           {
            "marker": {
             "colorbar": {
              "outlinewidth": 0,
              "ticks": ""
             }
            },
            "type": "scattercarpet"
           }
          ],
          "scattergeo": [
           {
            "marker": {
             "colorbar": {
              "outlinewidth": 0,
              "ticks": ""
             }
            },
            "type": "scattergeo"
           }
          ],
          "scattergl": [
           {
            "marker": {
             "colorbar": {
              "outlinewidth": 0,
              "ticks": ""
             }
            },
            "type": "scattergl"
           }
          ],
          "scattermapbox": [
           {
            "marker": {
             "colorbar": {
              "outlinewidth": 0,
              "ticks": ""
             }
            },
            "type": "scattermapbox"
           }
          ],
          "scatterpolar": [
           {
            "marker": {
             "colorbar": {
              "outlinewidth": 0,
              "ticks": ""
             }
            },
            "type": "scatterpolar"
           }
          ],
          "scatterpolargl": [
           {
            "marker": {
             "colorbar": {
              "outlinewidth": 0,
              "ticks": ""
             }
            },
            "type": "scatterpolargl"
           }
          ],
          "scatterternary": [
           {
            "marker": {
             "colorbar": {
              "outlinewidth": 0,
              "ticks": ""
             }
            },
            "type": "scatterternary"
           }
          ],
          "surface": [
           {
            "colorbar": {
             "outlinewidth": 0,
             "ticks": ""
            },
            "colorscale": [
             [
              0,
              "#0d0887"
             ],
             [
              0.1111111111111111,
              "#46039f"
             ],
             [
              0.2222222222222222,
              "#7201a8"
             ],
             [
              0.3333333333333333,
              "#9c179e"
             ],
             [
              0.4444444444444444,
              "#bd3786"
             ],
             [
              0.5555555555555556,
              "#d8576b"
             ],
             [
              0.6666666666666666,
              "#ed7953"
             ],
             [
              0.7777777777777778,
              "#fb9f3a"
             ],
             [
              0.8888888888888888,
              "#fdca26"
             ],
             [
              1,
              "#f0f921"
             ]
            ],
            "type": "surface"
           }
          ],
          "table": [
           {
            "cells": {
             "fill": {
              "color": "#EBF0F8"
             },
             "line": {
              "color": "white"
             }
            },
            "header": {
             "fill": {
              "color": "#C8D4E3"
             },
             "line": {
              "color": "white"
             }
            },
            "type": "table"
           }
          ]
         },
         "layout": {
          "annotationdefaults": {
           "arrowcolor": "#2a3f5f",
           "arrowhead": 0,
           "arrowwidth": 1
          },
          "autotypenumbers": "strict",
          "coloraxis": {
           "colorbar": {
            "outlinewidth": 0,
            "ticks": ""
           }
          },
          "colorscale": {
           "diverging": [
            [
             0,
             "#8e0152"
            ],
            [
             0.1,
             "#c51b7d"
            ],
            [
             0.2,
             "#de77ae"
            ],
            [
             0.3,
             "#f1b6da"
            ],
            [
             0.4,
             "#fde0ef"
            ],
            [
             0.5,
             "#f7f7f7"
            ],
            [
             0.6,
             "#e6f5d0"
            ],
            [
             0.7,
             "#b8e186"
            ],
            [
             0.8,
             "#7fbc41"
            ],
            [
             0.9,
             "#4d9221"
            ],
            [
             1,
             "#276419"
            ]
           ],
           "sequential": [
            [
             0,
             "#0d0887"
            ],
            [
             0.1111111111111111,
             "#46039f"
            ],
            [
             0.2222222222222222,
             "#7201a8"
            ],
            [
             0.3333333333333333,
             "#9c179e"
            ],
            [
             0.4444444444444444,
             "#bd3786"
            ],
            [
             0.5555555555555556,
             "#d8576b"
            ],
            [
             0.6666666666666666,
             "#ed7953"
            ],
            [
             0.7777777777777778,
             "#fb9f3a"
            ],
            [
             0.8888888888888888,
             "#fdca26"
            ],
            [
             1,
             "#f0f921"
            ]
           ],
           "sequentialminus": [
            [
             0,
             "#0d0887"
            ],
            [
             0.1111111111111111,
             "#46039f"
            ],
            [
             0.2222222222222222,
             "#7201a8"
            ],
            [
             0.3333333333333333,
             "#9c179e"
            ],
            [
             0.4444444444444444,
             "#bd3786"
            ],
            [
             0.5555555555555556,
             "#d8576b"
            ],
            [
             0.6666666666666666,
             "#ed7953"
            ],
            [
             0.7777777777777778,
             "#fb9f3a"
            ],
            [
             0.8888888888888888,
             "#fdca26"
            ],
            [
             1,
             "#f0f921"
            ]
           ]
          },
          "colorway": [
           "#636efa",
           "#EF553B",
           "#00cc96",
           "#ab63fa",
           "#FFA15A",
           "#19d3f3",
           "#FF6692",
           "#B6E880",
           "#FF97FF",
           "#FECB52"
          ],
          "font": {
           "color": "#2a3f5f"
          },
          "geo": {
           "bgcolor": "white",
           "lakecolor": "white",
           "landcolor": "#E5ECF6",
           "showlakes": true,
           "showland": true,
           "subunitcolor": "white"
          },
          "hoverlabel": {
           "align": "left"
          },
          "hovermode": "closest",
          "mapbox": {
           "style": "light"
          },
          "paper_bgcolor": "white",
          "plot_bgcolor": "#E5ECF6",
          "polar": {
           "angularaxis": {
            "gridcolor": "white",
            "linecolor": "white",
            "ticks": ""
           },
           "bgcolor": "#E5ECF6",
           "radialaxis": {
            "gridcolor": "white",
            "linecolor": "white",
            "ticks": ""
           }
          },
          "scene": {
           "xaxis": {
            "backgroundcolor": "#E5ECF6",
            "gridcolor": "white",
            "gridwidth": 2,
            "linecolor": "white",
            "showbackground": true,
            "ticks": "",
            "zerolinecolor": "white"
           },
           "yaxis": {
            "backgroundcolor": "#E5ECF6",
            "gridcolor": "white",
            "gridwidth": 2,
            "linecolor": "white",
            "showbackground": true,
            "ticks": "",
            "zerolinecolor": "white"
           },
           "zaxis": {
            "backgroundcolor": "#E5ECF6",
            "gridcolor": "white",
            "gridwidth": 2,
            "linecolor": "white",
            "showbackground": true,
            "ticks": "",
            "zerolinecolor": "white"
           }
          },
          "shapedefaults": {
           "line": {
            "color": "#2a3f5f"
           }
          },
          "ternary": {
           "aaxis": {
            "gridcolor": "white",
            "linecolor": "white",
            "ticks": ""
           },
           "baxis": {
            "gridcolor": "white",
            "linecolor": "white",
            "ticks": ""
           },
           "bgcolor": "#E5ECF6",
           "caxis": {
            "gridcolor": "white",
            "linecolor": "white",
            "ticks": ""
           }
          },
          "title": {
           "x": 0.05
          },
          "xaxis": {
           "automargin": true,
           "gridcolor": "white",
           "linecolor": "white",
           "ticks": "",
           "title": {
            "standoff": 15
           },
           "zerolinecolor": "white",
           "zerolinewidth": 2
          },
          "yaxis": {
           "automargin": true,
           "gridcolor": "white",
           "linecolor": "white",
           "ticks": "",
           "title": {
            "standoff": 15
           },
           "zerolinecolor": "white",
           "zerolinewidth": 2
          }
         }
        },
        "title": {
         "text": "Class Distribution of Human Dataset",
         "x": 0.48
        }
       }
      }
     },
     "metadata": {},
     "output_type": "display_data"
    },
    {
     "data": {
      "image/png": "[encoded data removed]",
      "text/plain": [
       "<Figure size 2000x700 with 1 Axes>"
      ]
     },
     "metadata": {},
     "output_type": "display_data"
    }
   ],
   "source": [
    "countPlot(y = df['class_name'], title = 'Countplot of Classes in Human Dataset', height = df['class_name'].nunique());\n",
    "piePlot(data = df['class_name'], value = 'Percentage', name = 'Class', title = 'Class Distribution of Human Dataset')  "
   ]
  }
 ],
 "metadata": {
  "kernelspec": {
   "display_name": "Python 3",
   "language": "python",
   "name": "python3"
  },
  "language_info": {
   "codemirror_mode": {
    "name": "ipython",
    "version": 3
   },
   "file_extension": ".py",
   "mimetype": "text/x-python",
   "name": "python",
   "nbconvert_exporter": "python",
   "pygments_lexer": "ipython3",
   "version": "3.8.6"
  },
  "vscode": {
   "interpreter": {
    "hash": "43b010d9f7d982b0242266748a4ec71b1a1d9ef54f57a230cfc8a9c34419b385"
   }
  }
 },
 "nbformat": 4,
 "nbformat_minor": 2
}
