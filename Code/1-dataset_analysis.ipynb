{
 "cells": [
  {
   "cell_type": "code",
   "execution_count": 1,
   "metadata": {},
   "outputs": [],
   "source": [
    "import pandas as pd\n",
    "import json"
   ]
  },
  {
   "cell_type": "code",
   "execution_count": 2,
   "metadata": {},
   "outputs": [
    {
     "name": "stdout",
     "output_type": "stream",
     "text": [
      "Human dataset has a total of 4140 patterns\n"
     ]
    }
   ],
   "source": [
    "num_classes = str(json.load(open('config.json'))['num_classes'])\n",
    "dataset_file_name = 'human_dataset_' + num_classes + '.txt'\n",
    "human_data = pd.read_table('../Datasets/' + dataset_file_name)\n",
    "print(f\"Human dataset has a total of {human_data.shape[0]} patterns\")"
   ]
  },
  {
   "cell_type": "code",
   "execution_count": 3,
   "metadata": {},
   "outputs": [],
   "source": [
    "if num_classes == '7':\n",
    "    class_names = [\n",
    "        'G Protien Coupled Receptors',\n",
    "        'Tyrosine Kinase',\n",
    "        'Tyrosine Phosphatase',\n",
    "        'Synthetase',\n",
    "        'Synthase',\n",
    "        'Ion Channel',\n",
    "        'Transcription Factor'\n",
    "    ]\n",
    "else:\n",
    "        class_names = [\n",
    "        'G Protien Coupled Receptors',\n",
    "        'Tyrosine Kinase',\n",
    "        'Tyrosine Phosphatase',\n",
    "        'Synthetase',\n",
    "        'Synthase',\n",
    "        'Transcription Factor'\n",
    "    ]"
   ]
  },
  {
   "cell_type": "code",
   "execution_count": 4,
   "metadata": {},
   "outputs": [
    {
     "data": {
      "text/html": [
       "<style type=\"text/css\">\n",
       "#T_4ce26 th {\n",
       "  text-align: center;\n",
       "}\n",
       "#T_4ce26_row0_col0, #T_4ce26_row0_col1, #T_4ce26_row0_col2, #T_4ce26_row1_col0, #T_4ce26_row1_col1, #T_4ce26_row1_col2, #T_4ce26_row2_col0, #T_4ce26_row2_col1, #T_4ce26_row2_col2, #T_4ce26_row3_col0, #T_4ce26_row3_col1, #T_4ce26_row3_col2, #T_4ce26_row4_col0, #T_4ce26_row4_col1, #T_4ce26_row4_col2, #T_4ce26_row5_col0, #T_4ce26_row5_col1, #T_4ce26_row5_col2 {\n",
       "  text-align: center;\n",
       "}\n",
       "</style>\n",
       "<table id=\"T_4ce26\">\n",
       "  <thead>\n",
       "    <tr>\n",
       "      <th class=\"blank level0\" >&nbsp;</th>\n",
       "      <th id=\"T_4ce26_level0_col0\" class=\"col_heading level0 col0\" >Class Label</th>\n",
       "      <th id=\"T_4ce26_level0_col1\" class=\"col_heading level0 col1\" >Class Name</th>\n",
       "      <th id=\"T_4ce26_level0_col2\" class=\"col_heading level0 col2\" >Count</th>\n",
       "    </tr>\n",
       "  </thead>\n",
       "  <tbody>\n",
       "    <tr>\n",
       "      <th id=\"T_4ce26_level0_row0\" class=\"row_heading level0 row0\" >0</th>\n",
       "      <td id=\"T_4ce26_row0_col0\" class=\"data row0 col0\" >0</td>\n",
       "      <td id=\"T_4ce26_row0_col1\" class=\"data row0 col1\" >G Protien Coupled Receptors</td>\n",
       "      <td id=\"T_4ce26_row0_col2\" class=\"data row0 col2\" >531</td>\n",
       "    </tr>\n",
       "    <tr>\n",
       "      <th id=\"T_4ce26_level0_row1\" class=\"row_heading level0 row1\" >1</th>\n",
       "      <td id=\"T_4ce26_row1_col0\" class=\"data row1 col0\" >1</td>\n",
       "      <td id=\"T_4ce26_row1_col1\" class=\"data row1 col1\" >Tyrosine Kinase</td>\n",
       "      <td id=\"T_4ce26_row1_col2\" class=\"data row1 col2\" >534</td>\n",
       "    </tr>\n",
       "    <tr>\n",
       "      <th id=\"T_4ce26_level0_row2\" class=\"row_heading level0 row2\" >2</th>\n",
       "      <td id=\"T_4ce26_row2_col0\" class=\"data row2 col0\" >2</td>\n",
       "      <td id=\"T_4ce26_row2_col1\" class=\"data row2 col1\" >Tyrosine Phosphatase</td>\n",
       "      <td id=\"T_4ce26_row2_col2\" class=\"data row2 col2\" >349</td>\n",
       "    </tr>\n",
       "    <tr>\n",
       "      <th id=\"T_4ce26_level0_row3\" class=\"row_heading level0 row3\" >3</th>\n",
       "      <td id=\"T_4ce26_row3_col0\" class=\"data row3 col0\" >3</td>\n",
       "      <td id=\"T_4ce26_row3_col1\" class=\"data row3 col1\" >Synthetase</td>\n",
       "      <td id=\"T_4ce26_row3_col2\" class=\"data row3 col2\" >672</td>\n",
       "    </tr>\n",
       "    <tr>\n",
       "      <th id=\"T_4ce26_level0_row4\" class=\"row_heading level0 row4\" >4</th>\n",
       "      <td id=\"T_4ce26_row4_col0\" class=\"data row4 col0\" >4</td>\n",
       "      <td id=\"T_4ce26_row4_col1\" class=\"data row4 col1\" >Synthase</td>\n",
       "      <td id=\"T_4ce26_row4_col2\" class=\"data row4 col2\" >711</td>\n",
       "    </tr>\n",
       "    <tr>\n",
       "      <th id=\"T_4ce26_level0_row5\" class=\"row_heading level0 row5\" >5</th>\n",
       "      <td id=\"T_4ce26_row5_col0\" class=\"data row5 col0\" >5</td>\n",
       "      <td id=\"T_4ce26_row5_col1\" class=\"data row5 col1\" >Transcription Factor</td>\n",
       "      <td id=\"T_4ce26_row5_col2\" class=\"data row5 col2\" >1343</td>\n",
       "    </tr>\n",
       "  </tbody>\n",
       "</table>\n"
      ],
      "text/plain": [
       "<pandas.io.formats.style.Styler at 0x20c45270d90>"
      ]
     },
     "execution_count": 4,
     "metadata": {},
     "output_type": "execute_result"
    }
   ],
   "source": [
    "df = human_data.groupby('class').count().reset_index()\n",
    "df['Class Name'] = class_names\n",
    "\n",
    "df.rename(columns={'class': 'Class Label', 'sequence': 'Count'}, inplace=True)\n",
    "df = df.reindex(columns=['Class Label', 'Class Name', 'Count'])\n",
    "df = df.style.set_properties(**{'text-align': 'center'})\n",
    "df = df.set_table_styles([dict(selector = 'th', props=[('text-align', 'center')])])\n",
    "df"
   ]
  }
 ],
 "metadata": {
  "kernelspec": {
   "display_name": "Python 3 (ipykernel)",
   "language": "python",
   "name": "python3"
  },
  "language_info": {
   "codemirror_mode": {
    "name": "ipython",
    "version": 3
   },
   "file_extension": ".py",
   "mimetype": "text/x-python",
   "name": "python",
   "nbconvert_exporter": "python",
   "pygments_lexer": "ipython3",
   "version": "3.9.10"
  },
  "vscode": {
   "interpreter": {
    "hash": "47b0946bdb42e5a8db21df9138f17b5cb1a6507cd769a113b48a94aa211b3a2e"
   }
  }
 },
 "nbformat": 4,
 "nbformat_minor": 2
}
