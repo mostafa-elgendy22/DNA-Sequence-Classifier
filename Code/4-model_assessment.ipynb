{
 "cells": [
  {
   "cell_type": "code",
   "execution_count": 1,
   "id": "cae6893a",
   "metadata": {
    "execution": {
     "iopub.execute_input": "2023-07-15T12:34:26.262083Z",
     "iopub.status.busy": "2023-07-15T12:34:26.262083Z",
     "iopub.status.idle": "2023-07-15T12:34:28.791159Z",
     "shell.execute_reply": "2023-07-15T12:34:28.791159Z"
    }
   },
   "outputs": [],
   "source": [
    "import os\n",
    "os.environ['TF_CPP_MIN_LOG_LEVEL'] = '2'\n",
    "import numpy as np\n",
    "import pandas as pd\n",
    "import json\n",
    "from tensorflow import keras\n",
    "from sklearn.preprocessing import LabelBinarizer\n",
    "from sklearn.metrics import accuracy_score, f1_score, precision_score, recall_score, classification_report, confusion_matrix, roc_curve, auc"
   ]
  },
  {
   "cell_type": "code",
   "execution_count": 2,
   "id": "837bdc81",
   "metadata": {
    "execution": {
     "iopub.execute_input": "2023-07-15T12:34:28.791159Z",
     "iopub.status.busy": "2023-07-15T12:34:28.791159Z",
     "iopub.status.idle": "2023-07-15T12:34:29.140831Z",
     "shell.execute_reply": "2023-07-15T12:34:29.140831Z"
    }
   },
   "outputs": [],
   "source": [
    "model = keras.models.load_model(\"../Saved Data/Model\")\n",
    "X_test = np.load('../Saved Data/Test Set/X_test_pre-processed.npy')\n",
    "y_test = np.load('../Saved Data/Test Set/y_test.npy')"
   ]
  },
  {
   "cell_type": "code",
   "execution_count": 3,
   "id": "05dc33b4",
   "metadata": {
    "execution": {
     "iopub.execute_input": "2023-07-15T12:34:29.140831Z",
     "iopub.status.busy": "2023-07-15T12:34:29.140831Z",
     "iopub.status.idle": "2023-07-15T12:34:29.467621Z",
     "shell.execute_reply": "2023-07-15T12:34:29.466614Z"
    }
   },
   "outputs": [
    {
     "name": "stdout",
     "output_type": "stream",
     "text": [
      "28/28 [==============================] - 0s 6ms/step\n"
     ]
    }
   ],
   "source": [
    "probabilities_vector = model.predict(X_test)\n",
    "y_pred = np.argmax(probabilities_vector, axis=1)\n",
    "np.savetxt('../Saved Data/Predicted Labels/python_model.txt', y_pred, fmt='%d')"
   ]
  },
  {
   "cell_type": "code",
   "execution_count": 4,
   "id": "4aab9c7a",
   "metadata": {
    "execution": {
     "iopub.execute_input": "2023-07-15T12:34:29.469623Z",
     "iopub.status.busy": "2023-07-15T12:34:29.469623Z",
     "iopub.status.idle": "2023-07-15T12:34:29.483533Z",
     "shell.execute_reply": "2023-07-15T12:34:29.482535Z"
    }
   },
   "outputs": [],
   "source": [
    "def roc_auc(y_true, y_pred, y_score=None, average='micro'):\n",
    "    if y_true.shape != y_pred.shape:\n",
    "        print(\"Error! y_true %s is not the same shape as y_pred %s\" % (\n",
    "              y_true.shape,\n",
    "              y_pred.shape)\n",
    "        )\n",
    "        return\n",
    "\n",
    "    lb = LabelBinarizer()\n",
    "\n",
    "    if len(y_true.shape) == 1:\n",
    "        lb.fit(y_true)\n",
    "\n",
    "    #Value counts of predictions\n",
    "    labels, cnt = np.unique(\n",
    "        y_pred,\n",
    "        return_counts=True)\n",
    "    n_classes = len(labels)\n",
    "    pred_cnt = pd.Series(cnt, index=labels)\n",
    "\n",
    "    if not (y_score is None):\n",
    "        fpr = dict()\n",
    "        tpr = dict()\n",
    "        roc_auc = dict()\n",
    "        for label_it, label in enumerate(labels):\n",
    "            fpr[label], tpr[label], _ = roc_curve(\n",
    "                (y_true == label).astype(int), \n",
    "                y_score[:, label_it])\n",
    "\n",
    "            roc_auc[label] = auc(fpr[label], tpr[label])\n",
    "\n",
    "        if average == 'micro':\n",
    "            if n_classes <= 2:\n",
    "                fpr[\"avg / total\"], tpr[\"avg / total\"], _ = roc_curve(\n",
    "                    lb.transform(y_true).ravel(), \n",
    "                    y_score[:, 1].ravel())\n",
    "            else:\n",
    "                fpr[\"avg / total\"], tpr[\"avg / total\"], _ = roc_curve(\n",
    "                        lb.transform(y_true).ravel(), \n",
    "                        y_score.ravel())\n",
    "\n",
    "            roc_auc[\"avg / total\"] = auc(\n",
    "                fpr[\"avg / total\"], \n",
    "                tpr[\"avg / total\"])\n",
    "\n",
    "        elif average == 'macro':\n",
    "            # First aggregate all false positive rates\n",
    "            all_fpr = np.unique(np.concatenate([\n",
    "                fpr[i] for i in labels]\n",
    "            ))\n",
    "\n",
    "            # Then interpolate all ROC curves at this points\n",
    "            mean_tpr = np.zeros_like(all_fpr)\n",
    "            for i in labels:\n",
    "                mean_tpr += np.interp(all_fpr, fpr[i], tpr[i])\n",
    "\n",
    "            # Finally average it and compute AUC\n",
    "            mean_tpr /= n_classes\n",
    "\n",
    "            fpr[\"macro\"] = all_fpr\n",
    "            tpr[\"macro\"] = mean_tpr\n",
    "\n",
    "            roc_auc[\"avg / total\"] = auc(fpr[\"macro\"], tpr[\"macro\"])\n",
    "\n",
    "\n",
    "    return roc_auc"
   ]
  },
  {
   "cell_type": "code",
   "execution_count": 5,
   "id": "1724d87e",
   "metadata": {
    "execution": {
     "iopub.execute_input": "2023-07-15T12:34:29.485551Z",
     "iopub.status.busy": "2023-07-15T12:34:29.485551Z",
     "iopub.status.idle": "2023-07-15T12:34:29.514913Z",
     "shell.execute_reply": "2023-07-15T12:34:29.513939Z"
    }
   },
   "outputs": [],
   "source": [
    "accuracy_score = accuracy_score(y_test, y_pred)\n",
    "precision_score = precision_score(y_test, y_pred, average='macro')\n",
    "recall_score = recall_score(y_test, y_pred, average='macro')\n",
    "f1_score = f1_score(y_test, y_pred, average='macro')\n",
    "confusion_matrix = confusion_matrix(y_test, y_pred)\n",
    "classification_report = classification_report(y_test, y_pred)\n",
    "AUC_score = roc_auc(y_test, y_pred, probabilities_vector, average='macro')['avg / total']"
   ]
  },
  {
   "cell_type": "code",
   "execution_count": 6,
   "id": "ca4e2f0b",
   "metadata": {
    "execution": {
     "iopub.execute_input": "2023-07-15T12:34:29.517931Z",
     "iopub.status.busy": "2023-07-15T12:34:29.517931Z",
     "iopub.status.idle": "2023-07-15T12:34:29.530867Z",
     "shell.execute_reply": "2023-07-15T12:34:29.529869Z"
    }
   },
   "outputs": [],
   "source": [
    "# AUC_scores = roc_auc_score(y_test, probabilities_vector, average=None, multi_class='ovr')\n",
    "# print(AUC_scores)\n",
    "\n",
    "# AUC_scores = roc_auc(y_test, y_pred, probabilities_vector, average='macro')\n",
    "# AUC_scores = list(AUC_scores.values())\n",
    "# AUC_scores.pop()\n",
    "# AUC_scores = [round(x, 8) for x in AUC_scores]\n",
    "# print(AUC_scores)"
   ]
  },
  {
   "cell_type": "code",
   "execution_count": 7,
   "id": "de199a01",
   "metadata": {
    "execution": {
     "iopub.execute_input": "2023-07-15T12:34:29.532888Z",
     "iopub.status.busy": "2023-07-15T12:34:29.532888Z",
     "iopub.status.idle": "2023-07-15T12:34:29.547917Z",
     "shell.execute_reply": "2023-07-15T12:34:29.545915Z"
    }
   },
   "outputs": [],
   "source": [
    "if os.path.exists('../Saved Data/Temp Data/python_model.json'):\n",
    "    os.remove('../Saved Data/Temp Data/python_model.json')"
   ]
  },
  {
   "cell_type": "code",
   "execution_count": 8,
   "id": "f0f73e03",
   "metadata": {
    "execution": {
     "iopub.execute_input": "2023-07-15T12:34:29.550936Z",
     "iopub.status.busy": "2023-07-15T12:34:29.550936Z",
     "iopub.status.idle": "2023-07-15T12:34:29.562584Z",
     "shell.execute_reply": "2023-07-15T12:34:29.561650Z"
    }
   },
   "outputs": [
    {
     "name": "stdout",
     "output_type": "stream",
     "text": [
      "Classification Accuracy = 87.44%\n",
      "Precision = 87.17%\n",
      "Recall = 85.55%\n",
      "F1 Score = 0.86\n",
      "AUC Score = 0.98\n"
     ]
    }
   ],
   "source": [
    "data = {\"accuracy\": accuracy_score, \n",
    "        \"precision\": precision_score, \n",
    "        \"recall\": recall_score, \n",
    "        \"f1\": f1_score, \n",
    "        \"auc\": AUC_score\n",
    "        }\n",
    "json_data = json.dumps(data, indent = 4)\n",
    "json_file = open('../Saved Data/Temp Data/python_model.json', 'w')\n",
    "json_file.write(json_data)\n",
    "print(f\"Classification Accuracy = {round(accuracy_score * 100, 2)}%\\nPrecision = {round(precision_score * 100, 2)}%\\nRecall = {round(recall_score * 100, 2)}%\\nF1 Score = {round(f1_score, 2)}\\nAUC Score = {round(AUC_score, 2)}\")\n",
    "json_file.close()"
   ]
  },
  {
   "cell_type": "code",
   "execution_count": 9,
   "id": "d21e5a30",
   "metadata": {
    "execution": {
     "iopub.execute_input": "2023-07-15T12:34:29.564698Z",
     "iopub.status.busy": "2023-07-15T12:34:29.564698Z",
     "iopub.status.idle": "2023-07-15T12:34:29.578582Z",
     "shell.execute_reply": "2023-07-15T12:34:29.577650Z"
    }
   },
   "outputs": [
    {
     "name": "stdout",
     "output_type": "stream",
     "text": [
      "              precision    recall  f1-score   support\n",
      "\n",
      "           0       0.84      0.91      0.88        93\n",
      "           1       0.88      0.85      0.86       107\n",
      "           2       0.93      0.88      0.90        89\n",
      "           3       0.82      0.83      0.83       139\n",
      "           4       0.83      0.83      0.83       123\n",
      "           5       0.89      0.76      0.82        45\n",
      "           6       0.92      0.93      0.92       280\n",
      "\n",
      "    accuracy                           0.87       876\n",
      "   macro avg       0.87      0.86      0.86       876\n",
      "weighted avg       0.88      0.87      0.87       876\n",
      "\n"
     ]
    }
   ],
   "source": [
    "print(classification_report)"
   ]
  },
  {
   "cell_type": "code",
   "execution_count": 10,
   "id": "c75a394e",
   "metadata": {
    "execution": {
     "iopub.execute_input": "2023-07-15T12:34:29.583584Z",
     "iopub.status.busy": "2023-07-15T12:34:29.583584Z",
     "iopub.status.idle": "2023-07-15T12:34:29.594166Z",
     "shell.execute_reply": "2023-07-15T12:34:29.593666Z"
    }
   },
   "outputs": [
    {
     "name": "stdout",
     "output_type": "stream",
     "text": [
      "[[ 85   3   0   2   0   1   2]\n",
      " [  0  91   1   3   3   0   9]\n",
      " [  2   0  78   3   3   1   2]\n",
      " [  3   2   2 116  10   1   5]\n",
      " [  4   4   2   8 102   1   2]\n",
      " [  1   3   0   1   2  34   4]\n",
      " [  6   1   1   9   3   0 260]]\n"
     ]
    }
   ],
   "source": [
    "print(confusion_matrix)"
   ]
  }
 ],
 "metadata": {
  "kernelspec": {
   "display_name": "Python 3",
   "language": "python",
   "name": "python3"
  },
  "language_info": {
   "codemirror_mode": {
    "name": "ipython",
    "version": 3
   },
   "file_extension": ".py",
   "mimetype": "text/x-python",
   "name": "python",
   "nbconvert_exporter": "python",
   "pygments_lexer": "ipython3",
   "version": "3.8.6"
  },
  "vscode": {
   "interpreter": {
    "hash": "43b010d9f7d982b0242266748a4ec71b1a1d9ef54f57a230cfc8a9c34419b385"
   }
  }
 },
 "nbformat": 4,
 "nbformat_minor": 5
}
