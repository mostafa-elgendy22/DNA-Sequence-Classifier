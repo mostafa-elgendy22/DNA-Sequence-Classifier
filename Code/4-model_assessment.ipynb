{
 "cells": [
  {
   "cell_type": "code",
   "execution_count": 35,
   "id": "cae6893a",
   "metadata": {},
   "outputs": [],
   "source": [
    "import numpy as np\n",
    "import pandas as pd\n",
    "from tensorflow import keras\n",
    "import matplotlib as mpl\n",
    "import matplotlib.pyplot as plt\n",
    "import os\n",
    "from sklearn.metrics import accuracy_score, f1_score, precision_score, recall_score, classification_report, confusion_matrix"
   ]
  },
  {
   "cell_type": "code",
   "execution_count": 36,
   "id": "837bdc81",
   "metadata": {},
   "outputs": [],
   "source": [
    "model = keras.models.load_model(\"../Saved Data/Model\")\n",
    "X_test = np.load('../Saved Data/X_test.npy')\n",
    "y_test = np.load('../Saved Data/y_test.npy')"
   ]
  },
  {
   "cell_type": "code",
   "execution_count": 37,
   "id": "05dc33b4",
   "metadata": {},
   "outputs": [
    {
     "name": "stdout",
     "output_type": "stream",
     "text": [
      "28/28 [==============================] - 0s 11ms/step\n"
     ]
    }
   ],
   "source": [
    "y_pred = np.argmax(model.predict(X_test), axis=1)\n",
    "accuracy_score = accuracy_score(y_test, y_pred)\n",
    "precision_score = precision_score(y_test, y_pred, average='macro')\n",
    "recall_score = recall_score(y_test, y_pred, average='macro')\n",
    "f1_score = f1_score(y_test, y_pred, average='macro')\n",
    "confusion_matrix = confusion_matrix(y_test, y_pred)\n",
    "classification_report = classification_report(y_test, y_pred)"
   ]
  },
  {
   "cell_type": "code",
   "execution_count": 38,
   "id": "f0f73e03",
   "metadata": {},
   "outputs": [
    {
     "name": "stdout",
     "output_type": "stream",
     "text": [
      "Classification Accuracy = 82.42%\n",
      "Precision = 85.21%\n",
      "Recall = 79.12%\n",
      "F1 Score = 80.78%\n"
     ]
    }
   ],
   "source": [
    "print(f\"Classification Accuracy = {round(accuracy_score * 100, 2)}%\\nPrecision = {round(precision_score * 100, 2)}%\\nRecall = {round(recall_score * 100, 2)}%\\nF1 Score = {round(f1_score * 100, 2)}%\")"
   ]
  },
  {
   "cell_type": "code",
   "execution_count": 40,
   "id": "c75a394e",
   "metadata": {},
   "outputs": [
    {
     "name": "stdout",
     "output_type": "stream",
     "text": [
      "[[ 75   4   0   1   9   0   4]\n",
      " [  1  93   0   1   6   1   5]\n",
      " [  1   7  58   1  15   1   6]\n",
      " [  1   4   1 102  24   1   6]\n",
      " [  3   1   0   1 112   2   4]\n",
      " [  0   1   0   1   7  30   6]\n",
      " [  1   5   0   3  19   0 252]]\n"
     ]
    }
   ],
   "source": [
    "print(confusion_matrix)"
   ]
  }
 ],
 "metadata": {
  "kernelspec": {
   "display_name": "Python 3.9.10 64-bit",
   "language": "python",
   "name": "python3"
  },
  "language_info": {
   "codemirror_mode": {
    "name": "ipython",
    "version": 3
   },
   "file_extension": ".py",
   "mimetype": "text/x-python",
   "name": "python",
   "nbconvert_exporter": "python",
   "pygments_lexer": "ipython3",
   "version": "3.9.10"
  },
  "vscode": {
   "interpreter": {
    "hash": "47b0946bdb42e5a8db21df9138f17b5cb1a6507cd769a113b48a94aa211b3a2e"
   }
  }
 },
 "nbformat": 4,
 "nbformat_minor": 5
}
