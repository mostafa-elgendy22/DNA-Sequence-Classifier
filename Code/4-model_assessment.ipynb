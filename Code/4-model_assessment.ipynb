{
 "cells": [
  {
   "cell_type": "code",
   "execution_count": 1,
   "id": "cae6893a",
   "metadata": {
    "execution": {
     "iopub.execute_input": "2023-02-12T15:35:12.381225Z",
     "iopub.status.busy": "2023-02-12T15:35:12.381225Z",
     "iopub.status.idle": "2023-02-12T15:35:17.723556Z",
     "shell.execute_reply": "2023-02-12T15:35:17.722438Z"
    }
   },
   "outputs": [],
   "source": [
    "import os\n",
    "os.environ['TF_CPP_MIN_LOG_LEVEL'] = '2'\n",
    "import numpy as np\n",
    "import pandas as pd\n",
    "import json\n",
    "import matplotlib as mpl\n",
    "import matplotlib.pyplot as plt\n",
    "from tensorflow import keras\n",
    "from sklearn.preprocessing import LabelBinarizer\n",
    "from sklearn.metrics import accuracy_score, f1_score, precision_score, recall_score, classification_report, confusion_matrix, roc_auc_score, roc_curve, auc, precision_recall_fscore_support"
   ]
  },
  {
   "cell_type": "code",
   "execution_count": 2,
   "id": "837bdc81",
   "metadata": {
    "execution": {
     "iopub.execute_input": "2023-02-12T15:35:17.725632Z",
     "iopub.status.busy": "2023-02-12T15:35:17.725632Z",
     "iopub.status.idle": "2023-02-12T15:35:18.988150Z",
     "shell.execute_reply": "2023-02-12T15:35:18.985886Z"
    }
   },
   "outputs": [],
   "source": [
    "model = keras.models.load_model(\"../Saved Data/Model\")\n",
    "X_test = np.load('../Saved Data/Test Set/X_test_pre-processed.npy')\n",
    "y_test = np.load('../Saved Data/Test Set/y_test.npy')"
   ]
  },
  {
   "cell_type": "code",
   "execution_count": 3,
   "id": "05dc33b4",
   "metadata": {
    "execution": {
     "iopub.execute_input": "2023-02-12T15:35:18.998048Z",
     "iopub.status.busy": "2023-02-12T15:35:18.996785Z",
     "iopub.status.idle": "2023-02-12T15:35:20.192748Z",
     "shell.execute_reply": "2023-02-12T15:35:20.192748Z"
    }
   },
   "outputs": [
    {
     "name": "stdout",
     "output_type": "stream",
     "text": [
      "28/28 [==============================] - 1s 16ms/step\n"
     ]
    }
   ],
   "source": [
    "probabilities_vector = model.predict(X_test)\n",
    "y_pred = np.argmax(probabilities_vector, axis=1)\n",
    "np.savetxt('../Saved Data/Predicted Labels/python_model.txt', y_pred, fmt='%d')"
   ]
  },
  {
   "cell_type": "code",
   "execution_count": 4,
   "id": "4aab9c7a",
   "metadata": {
    "execution": {
     "iopub.execute_input": "2023-02-12T15:35:20.192748Z",
     "iopub.status.busy": "2023-02-12T15:35:20.192748Z",
     "iopub.status.idle": "2023-02-12T15:35:20.250393Z",
     "shell.execute_reply": "2023-02-12T15:35:20.247996Z"
    }
   },
   "outputs": [],
   "source": [
    "def roc_auc(y_true, y_pred, y_score=None, average='micro'):\n",
    "    if y_true.shape != y_pred.shape:\n",
    "        print(\"Error! y_true %s is not the same shape as y_pred %s\" % (\n",
    "              y_true.shape,\n",
    "              y_pred.shape)\n",
    "        )\n",
    "        return\n",
    "\n",
    "    lb = LabelBinarizer()\n",
    "\n",
    "    if len(y_true.shape) == 1:\n",
    "        lb.fit(y_true)\n",
    "\n",
    "    #Value counts of predictions\n",
    "    labels, cnt = np.unique(\n",
    "        y_pred,\n",
    "        return_counts=True)\n",
    "    n_classes = len(labels)\n",
    "    pred_cnt = pd.Series(cnt, index=labels)\n",
    "\n",
    "    if not (y_score is None):\n",
    "        fpr = dict()\n",
    "        tpr = dict()\n",
    "        roc_auc = dict()\n",
    "        for label_it, label in enumerate(labels):\n",
    "            fpr[label], tpr[label], _ = roc_curve(\n",
    "                (y_true == label).astype(int), \n",
    "                y_score[:, label_it])\n",
    "\n",
    "            roc_auc[label] = auc(fpr[label], tpr[label])\n",
    "\n",
    "        if average == 'micro':\n",
    "            if n_classes <= 2:\n",
    "                fpr[\"avg / total\"], tpr[\"avg / total\"], _ = roc_curve(\n",
    "                    lb.transform(y_true).ravel(), \n",
    "                    y_score[:, 1].ravel())\n",
    "            else:\n",
    "                fpr[\"avg / total\"], tpr[\"avg / total\"], _ = roc_curve(\n",
    "                        lb.transform(y_true).ravel(), \n",
    "                        y_score.ravel())\n",
    "\n",
    "            roc_auc[\"avg / total\"] = auc(\n",
    "                fpr[\"avg / total\"], \n",
    "                tpr[\"avg / total\"])\n",
    "\n",
    "        elif average == 'macro':\n",
    "            # First aggregate all false positive rates\n",
    "            all_fpr = np.unique(np.concatenate([\n",
    "                fpr[i] for i in labels]\n",
    "            ))\n",
    "\n",
    "            # Then interpolate all ROC curves at this points\n",
    "            mean_tpr = np.zeros_like(all_fpr)\n",
    "            for i in labels:\n",
    "                mean_tpr += np.interp(all_fpr, fpr[i], tpr[i])\n",
    "\n",
    "            # Finally average it and compute AUC\n",
    "            mean_tpr /= n_classes\n",
    "\n",
    "            fpr[\"macro\"] = all_fpr\n",
    "            tpr[\"macro\"] = mean_tpr\n",
    "\n",
    "            roc_auc[\"avg / total\"] = auc(fpr[\"macro\"], tpr[\"macro\"])\n",
    "\n",
    "\n",
    "    return roc_auc"
   ]
  },
  {
   "cell_type": "code",
   "execution_count": 5,
   "id": "1724d87e",
   "metadata": {
    "execution": {
     "iopub.execute_input": "2023-02-12T15:35:20.262355Z",
     "iopub.status.busy": "2023-02-12T15:35:20.260243Z",
     "iopub.status.idle": "2023-02-12T15:35:20.328290Z",
     "shell.execute_reply": "2023-02-12T15:35:20.328290Z"
    }
   },
   "outputs": [],
   "source": [
    "accuracy_score = accuracy_score(y_test, y_pred)\n",
    "precision_score = precision_score(y_test, y_pred, average='macro')\n",
    "recall_score = recall_score(y_test, y_pred, average='macro')\n",
    "f1_score = f1_score(y_test, y_pred, average='macro')\n",
    "confusion_matrix = confusion_matrix(y_test, y_pred)\n",
    "classification_report = classification_report(y_test, y_pred)\n",
    "AUC_score = roc_auc(y_test, y_pred, probabilities_vector, average='macro')['avg / total']"
   ]
  },
  {
   "cell_type": "code",
   "execution_count": 6,
   "id": "ca4e2f0b",
   "metadata": {
    "execution": {
     "iopub.execute_input": "2023-02-12T15:35:20.336292Z",
     "iopub.status.busy": "2023-02-12T15:35:20.336292Z",
     "iopub.status.idle": "2023-02-12T15:35:20.360804Z",
     "shell.execute_reply": "2023-02-12T15:35:20.360315Z"
    }
   },
   "outputs": [],
   "source": [
    "# AUC_scores = roc_auc_score(y_test, probabilities_vector, average=None, multi_class='ovr')\n",
    "# print(AUC_scores)\n",
    "\n",
    "# AUC_scores = roc_auc(y_test, y_pred, probabilities_vector, average='macro')\n",
    "# AUC_scores = list(AUC_scores.values())\n",
    "# AUC_scores.pop()\n",
    "# AUC_scores = [round(x, 8) for x in AUC_scores]\n",
    "# print(AUC_scores)"
   ]
  },
  {
   "cell_type": "code",
   "execution_count": 7,
   "id": "de199a01",
   "metadata": {
    "execution": {
     "iopub.execute_input": "2023-02-12T15:35:20.368856Z",
     "iopub.status.busy": "2023-02-12T15:35:20.368856Z",
     "iopub.status.idle": "2023-02-12T15:35:20.386910Z",
     "shell.execute_reply": "2023-02-12T15:35:20.384905Z"
    }
   },
   "outputs": [],
   "source": [
    "if os.path.exists('../Saved Data/Temp Data/python_model.json'):\n",
    "    os.remove('../Saved Data/Temp Data/python_model.json')"
   ]
  },
  {
   "cell_type": "code",
   "execution_count": 8,
   "id": "f0f73e03",
   "metadata": {
    "execution": {
     "iopub.execute_input": "2023-02-12T15:35:20.395028Z",
     "iopub.status.busy": "2023-02-12T15:35:20.386910Z",
     "iopub.status.idle": "2023-02-12T15:35:20.413029Z",
     "shell.execute_reply": "2023-02-12T15:35:20.412346Z"
    }
   },
   "outputs": [
    {
     "name": "stdout",
     "output_type": "stream",
     "text": [
      "Classification Accuracy = 86.76%\n",
      "Precision = 87.45%\n",
      "Recall = 84.64%\n",
      "F1 Score = 0.86\n",
      "AUC Score = 0.98\n"
     ]
    }
   ],
   "source": [
    "data = {\"accuracy\": accuracy_score, \n",
    "        \"precision\": precision_score, \n",
    "        \"recall\": recall_score, \n",
    "        \"f1\": f1_score, \n",
    "        \"auc\": AUC_score\n",
    "        }\n",
    "json_data = json.dumps(data, indent = 4)\n",
    "json_file = open('../Saved Data/Temp Data/python_model.json', 'w')\n",
    "json_file.write(json_data)\n",
    "print(f\"Classification Accuracy = {round(accuracy_score * 100, 2)}%\\nPrecision = {round(precision_score * 100, 2)}%\\nRecall = {round(recall_score * 100, 2)}%\\nF1 Score = {round(f1_score, 2)}\\nAUC Score = {round(AUC_score, 2)}\")\n",
    "json_file.close()"
   ]
  },
  {
   "cell_type": "code",
   "execution_count": 9,
   "id": "d21e5a30",
   "metadata": {
    "execution": {
     "iopub.execute_input": "2023-02-12T15:35:20.413029Z",
     "iopub.status.busy": "2023-02-12T15:35:20.413029Z",
     "iopub.status.idle": "2023-02-12T15:35:20.444364Z",
     "shell.execute_reply": "2023-02-12T15:35:20.444364Z"
    }
   },
   "outputs": [
    {
     "name": "stdout",
     "output_type": "stream",
     "text": [
      "              precision    recall  f1-score   support\n",
      "\n",
      "           0       0.90      0.89      0.90        93\n",
      "           1       0.95      0.79      0.86       107\n",
      "           2       0.96      0.88      0.92        89\n",
      "           3       0.84      0.81      0.83       139\n",
      "           4       0.75      0.87      0.81       123\n",
      "           5       0.83      0.76      0.79        45\n",
      "           6       0.88      0.93      0.90       280\n",
      "\n",
      "    accuracy                           0.87       876\n",
      "   macro avg       0.87      0.85      0.86       876\n",
      "weighted avg       0.87      0.87      0.87       876\n",
      "\n"
     ]
    }
   ],
   "source": [
    "print(classification_report)"
   ]
  },
  {
   "cell_type": "code",
   "execution_count": 10,
   "id": "c75a394e",
   "metadata": {
    "execution": {
     "iopub.execute_input": "2023-02-12T15:35:20.444364Z",
     "iopub.status.busy": "2023-02-12T15:35:20.444364Z",
     "iopub.status.idle": "2023-02-12T15:35:20.477762Z",
     "shell.execute_reply": "2023-02-12T15:35:20.475225Z"
    }
   },
   "outputs": [
    {
     "name": "stdout",
     "output_type": "stream",
     "text": [
      "[[ 83   1   0   1   2   0   6]\n",
      " [  1  84   0   5   7   0  10]\n",
      " [  2   0  78   3   3   0   3]\n",
      " [  2   0   2 113  13   2   7]\n",
      " [  3   3   0   2 107   3   5]\n",
      " [  0   0   0   0   5  34   6]\n",
      " [  1   0   1  10   5   2 261]]\n"
     ]
    }
   ],
   "source": [
    "print(confusion_matrix)"
   ]
  }
 ],
 "metadata": {
  "kernelspec": {
   "display_name": "Python 3",
   "language": "python",
   "name": "python3"
  },
  "language_info": {
   "codemirror_mode": {
    "name": "ipython",
    "version": 3
   },
   "file_extension": ".py",
   "mimetype": "text/x-python",
   "name": "python",
   "nbconvert_exporter": "python",
   "pygments_lexer": "ipython3",
   "version": "3.8.6"
  },
  "vscode": {
   "interpreter": {
    "hash": "43b010d9f7d982b0242266748a4ec71b1a1d9ef54f57a230cfc8a9c34419b385"
   }
  }
 },
 "nbformat": 4,
 "nbformat_minor": 5
}
